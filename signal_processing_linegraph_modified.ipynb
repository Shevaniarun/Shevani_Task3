{
 "cells": [
  {
   "cell_type": "code",
   "execution_count": 241,
   "id": "881e96f3",
   "metadata": {},
   "outputs": [],
   "source": [
    "import numpy as np\n",
    "import pandas as pd"
   ]
  },
  {
   "cell_type": "code",
   "execution_count": 242,
   "id": "55597d30",
   "metadata": {
    "scrolled": true
   },
   "outputs": [],
   "source": [
    "data= pd.read_csv('C:/Users/sheva/OneDrive/Desktop/input_data_sheva.csv',header=50)"
   ]
  },
  {
   "cell_type": "code",
   "execution_count": 243,
   "id": "6a403300",
   "metadata": {},
   "outputs": [
    {
     "data": {
      "text/html": [
       "<div>\n",
       "<style scoped>\n",
       "    .dataframe tbody tr th:only-of-type {\n",
       "        vertical-align: middle;\n",
       "    }\n",
       "\n",
       "    .dataframe tbody tr th {\n",
       "        vertical-align: top;\n",
       "    }\n",
       "\n",
       "    .dataframe thead th {\n",
       "        text-align: right;\n",
       "    }\n",
       "</style>\n",
       "<table border=\"1\" class=\"dataframe\">\n",
       "  <thead>\n",
       "    <tr style=\"text-align: right;\">\n",
       "      <th></th>\n",
       "      <th>VECTORS</th>\n",
       "      <th>Unnamed: 1</th>\n",
       "      <th>Unnamed: 2</th>\n",
       "      <th>Unnamed: 3</th>\n",
       "      <th>Unnamed: 4</th>\n",
       "      <th>Unnamed: 5</th>\n",
       "      <th>Unnamed: 6</th>\n",
       "      <th>Unnamed: 7</th>\n",
       "      <th>Unnamed: 8</th>\n",
       "      <th>Unnamed: 9</th>\n",
       "      <th>Unnamed: 10</th>\n",
       "      <th>Unnamed: 11</th>\n",
       "      <th>Unnamed: 12</th>\n",
       "      <th>Unnamed: 13</th>\n",
       "      <th>Unnamed: 14</th>\n",
       "      <th>Unnamed: 15</th>\n",
       "    </tr>\n",
       "  </thead>\n",
       "  <tbody>\n",
       "    <tr>\n",
       "      <th>0</th>\n",
       "      <td>Cumulative time</td>\n",
       "      <td>Real time</td>\n",
       "      <td>Physiological stage</td>\n",
       "      <td>Artifact corrected heart rate</td>\n",
       "      <td>%VO2max</td>\n",
       "      <td>VO2</td>\n",
       "      <td>EPOC</td>\n",
       "      <td>Respiration rate</td>\n",
       "      <td>Ventilation</td>\n",
       "      <td>Energy expenditure</td>\n",
       "      <td>Energy expenditure from fats</td>\n",
       "      <td>VLF Power</td>\n",
       "      <td>LF Power</td>\n",
       "      <td>HF Power</td>\n",
       "      <td>HF2 Power</td>\n",
       "      <td>NaN</td>\n",
       "    </tr>\n",
       "    <tr>\n",
       "      <th>1</th>\n",
       "      <td>0</td>\n",
       "      <td>04:36:49</td>\n",
       "      <td>10.00</td>\n",
       "      <td>76.86</td>\n",
       "      <td>12.2594</td>\n",
       "      <td>6.91</td>\n",
       "      <td>0.01</td>\n",
       "      <td>16.26</td>\n",
       "      <td>9.44</td>\n",
       "      <td>2.42</td>\n",
       "      <td>51.07</td>\n",
       "      <td>102.80</td>\n",
       "      <td>16058.50</td>\n",
       "      <td>3812.67</td>\n",
       "      <td>4165.51</td>\n",
       "      <td>NaN</td>\n",
       "    </tr>\n",
       "    <tr>\n",
       "      <th>2</th>\n",
       "      <td>1</td>\n",
       "      <td>04:36:50</td>\n",
       "      <td>10.00</td>\n",
       "      <td>76.86</td>\n",
       "      <td>12.2594</td>\n",
       "      <td>6.91</td>\n",
       "      <td>0.01</td>\n",
       "      <td>16.26</td>\n",
       "      <td>9.44</td>\n",
       "      <td>2.42</td>\n",
       "      <td>51.07</td>\n",
       "      <td>102.80</td>\n",
       "      <td>16058.50</td>\n",
       "      <td>3812.67</td>\n",
       "      <td>4165.51</td>\n",
       "      <td>NaN</td>\n",
       "    </tr>\n",
       "    <tr>\n",
       "      <th>3</th>\n",
       "      <td>2</td>\n",
       "      <td>04:36:51</td>\n",
       "      <td>10.00</td>\n",
       "      <td>76.86</td>\n",
       "      <td>12.2594</td>\n",
       "      <td>6.91</td>\n",
       "      <td>0.01</td>\n",
       "      <td>16.26</td>\n",
       "      <td>9.44</td>\n",
       "      <td>2.42</td>\n",
       "      <td>51.07</td>\n",
       "      <td>102.80</td>\n",
       "      <td>16058.50</td>\n",
       "      <td>3812.67</td>\n",
       "      <td>4165.51</td>\n",
       "      <td>NaN</td>\n",
       "    </tr>\n",
       "    <tr>\n",
       "      <th>4</th>\n",
       "      <td>3</td>\n",
       "      <td>04:36:52</td>\n",
       "      <td>10.00</td>\n",
       "      <td>76.86</td>\n",
       "      <td>12.2594</td>\n",
       "      <td>6.91</td>\n",
       "      <td>0.01</td>\n",
       "      <td>16.26</td>\n",
       "      <td>9.44</td>\n",
       "      <td>2.42</td>\n",
       "      <td>51.07</td>\n",
       "      <td>102.80</td>\n",
       "      <td>16058.50</td>\n",
       "      <td>3812.67</td>\n",
       "      <td>4165.51</td>\n",
       "      <td>NaN</td>\n",
       "    </tr>\n",
       "  </tbody>\n",
       "</table>\n",
       "</div>"
      ],
      "text/plain": [
       "           VECTORS Unnamed: 1           Unnamed: 2  \\\n",
       "0  Cumulative time  Real time  Physiological stage   \n",
       "1                0   04:36:49                10.00   \n",
       "2                1   04:36:50                10.00   \n",
       "3                2   04:36:51                10.00   \n",
       "4                3   04:36:52                10.00   \n",
       "\n",
       "                      Unnamed: 3 Unnamed: 4 Unnamed: 5 Unnamed: 6  \\\n",
       "0  Artifact corrected heart rate    %VO2max        VO2       EPOC   \n",
       "1                          76.86    12.2594       6.91       0.01   \n",
       "2                          76.86    12.2594       6.91       0.01   \n",
       "3                          76.86    12.2594       6.91       0.01   \n",
       "4                          76.86    12.2594       6.91       0.01   \n",
       "\n",
       "         Unnamed: 7   Unnamed: 8          Unnamed: 9  \\\n",
       "0  Respiration rate  Ventilation  Energy expenditure   \n",
       "1             16.26         9.44                2.42   \n",
       "2             16.26         9.44                2.42   \n",
       "3             16.26         9.44                2.42   \n",
       "4             16.26         9.44                2.42   \n",
       "\n",
       "                    Unnamed: 10 Unnamed: 11 Unnamed: 12 Unnamed: 13  \\\n",
       "0  Energy expenditure from fats   VLF Power    LF Power    HF Power   \n",
       "1                         51.07      102.80    16058.50     3812.67   \n",
       "2                         51.07      102.80    16058.50     3812.67   \n",
       "3                         51.07      102.80    16058.50     3812.67   \n",
       "4                         51.07      102.80    16058.50     3812.67   \n",
       "\n",
       "  Unnamed: 14  Unnamed: 15  \n",
       "0   HF2 Power          NaN  \n",
       "1     4165.51          NaN  \n",
       "2     4165.51          NaN  \n",
       "3     4165.51          NaN  \n",
       "4     4165.51          NaN  "
      ]
     },
     "execution_count": 243,
     "metadata": {},
     "output_type": "execute_result"
    }
   ],
   "source": [
    "data.head(5)"
   ]
  },
  {
   "cell_type": "code",
   "execution_count": 244,
   "id": "013959a0",
   "metadata": {},
   "outputs": [],
   "source": [
    "cname=data.loc[0]"
   ]
  },
  {
   "cell_type": "code",
   "execution_count": 245,
   "id": "ec346e68",
   "metadata": {},
   "outputs": [],
   "source": [
    "colname=list(cname)"
   ]
  },
  {
   "cell_type": "code",
   "execution_count": 246,
   "id": "ecb3808f",
   "metadata": {},
   "outputs": [],
   "source": [
    "data.columns =colname"
   ]
  },
  {
   "cell_type": "code",
   "execution_count": 247,
   "id": "8323b451",
   "metadata": {},
   "outputs": [
    {
     "data": {
      "text/html": [
       "<div>\n",
       "<style scoped>\n",
       "    .dataframe tbody tr th:only-of-type {\n",
       "        vertical-align: middle;\n",
       "    }\n",
       "\n",
       "    .dataframe tbody tr th {\n",
       "        vertical-align: top;\n",
       "    }\n",
       "\n",
       "    .dataframe thead th {\n",
       "        text-align: right;\n",
       "    }\n",
       "</style>\n",
       "<table border=\"1\" class=\"dataframe\">\n",
       "  <thead>\n",
       "    <tr style=\"text-align: right;\">\n",
       "      <th></th>\n",
       "      <th>Cumulative time</th>\n",
       "      <th>Real time</th>\n",
       "      <th>Physiological stage</th>\n",
       "      <th>Artifact corrected heart rate</th>\n",
       "      <th>%VO2max</th>\n",
       "      <th>VO2</th>\n",
       "      <th>EPOC</th>\n",
       "      <th>Respiration rate</th>\n",
       "      <th>Ventilation</th>\n",
       "      <th>Energy expenditure</th>\n",
       "      <th>Energy expenditure from fats</th>\n",
       "      <th>VLF Power</th>\n",
       "      <th>LF Power</th>\n",
       "      <th>HF Power</th>\n",
       "      <th>HF2 Power</th>\n",
       "      <th>NaN</th>\n",
       "    </tr>\n",
       "  </thead>\n",
       "  <tbody>\n",
       "    <tr>\n",
       "      <th>0</th>\n",
       "      <td>Cumulative time</td>\n",
       "      <td>Real time</td>\n",
       "      <td>Physiological stage</td>\n",
       "      <td>Artifact corrected heart rate</td>\n",
       "      <td>%VO2max</td>\n",
       "      <td>VO2</td>\n",
       "      <td>EPOC</td>\n",
       "      <td>Respiration rate</td>\n",
       "      <td>Ventilation</td>\n",
       "      <td>Energy expenditure</td>\n",
       "      <td>Energy expenditure from fats</td>\n",
       "      <td>VLF Power</td>\n",
       "      <td>LF Power</td>\n",
       "      <td>HF Power</td>\n",
       "      <td>HF2 Power</td>\n",
       "      <td>NaN</td>\n",
       "    </tr>\n",
       "    <tr>\n",
       "      <th>1</th>\n",
       "      <td>0</td>\n",
       "      <td>04:36:49</td>\n",
       "      <td>10.00</td>\n",
       "      <td>76.86</td>\n",
       "      <td>12.2594</td>\n",
       "      <td>6.91</td>\n",
       "      <td>0.01</td>\n",
       "      <td>16.26</td>\n",
       "      <td>9.44</td>\n",
       "      <td>2.42</td>\n",
       "      <td>51.07</td>\n",
       "      <td>102.80</td>\n",
       "      <td>16058.50</td>\n",
       "      <td>3812.67</td>\n",
       "      <td>4165.51</td>\n",
       "      <td>NaN</td>\n",
       "    </tr>\n",
       "    <tr>\n",
       "      <th>2</th>\n",
       "      <td>1</td>\n",
       "      <td>04:36:50</td>\n",
       "      <td>10.00</td>\n",
       "      <td>76.86</td>\n",
       "      <td>12.2594</td>\n",
       "      <td>6.91</td>\n",
       "      <td>0.01</td>\n",
       "      <td>16.26</td>\n",
       "      <td>9.44</td>\n",
       "      <td>2.42</td>\n",
       "      <td>51.07</td>\n",
       "      <td>102.80</td>\n",
       "      <td>16058.50</td>\n",
       "      <td>3812.67</td>\n",
       "      <td>4165.51</td>\n",
       "      <td>NaN</td>\n",
       "    </tr>\n",
       "    <tr>\n",
       "      <th>3</th>\n",
       "      <td>2</td>\n",
       "      <td>04:36:51</td>\n",
       "      <td>10.00</td>\n",
       "      <td>76.86</td>\n",
       "      <td>12.2594</td>\n",
       "      <td>6.91</td>\n",
       "      <td>0.01</td>\n",
       "      <td>16.26</td>\n",
       "      <td>9.44</td>\n",
       "      <td>2.42</td>\n",
       "      <td>51.07</td>\n",
       "      <td>102.80</td>\n",
       "      <td>16058.50</td>\n",
       "      <td>3812.67</td>\n",
       "      <td>4165.51</td>\n",
       "      <td>NaN</td>\n",
       "    </tr>\n",
       "    <tr>\n",
       "      <th>4</th>\n",
       "      <td>3</td>\n",
       "      <td>04:36:52</td>\n",
       "      <td>10.00</td>\n",
       "      <td>76.86</td>\n",
       "      <td>12.2594</td>\n",
       "      <td>6.91</td>\n",
       "      <td>0.01</td>\n",
       "      <td>16.26</td>\n",
       "      <td>9.44</td>\n",
       "      <td>2.42</td>\n",
       "      <td>51.07</td>\n",
       "      <td>102.80</td>\n",
       "      <td>16058.50</td>\n",
       "      <td>3812.67</td>\n",
       "      <td>4165.51</td>\n",
       "      <td>NaN</td>\n",
       "    </tr>\n",
       "  </tbody>\n",
       "</table>\n",
       "</div>"
      ],
      "text/plain": [
       "   Cumulative time  Real time  Physiological stage  \\\n",
       "0  Cumulative time  Real time  Physiological stage   \n",
       "1                0   04:36:49                10.00   \n",
       "2                1   04:36:50                10.00   \n",
       "3                2   04:36:51                10.00   \n",
       "4                3   04:36:52                10.00   \n",
       "\n",
       "   Artifact corrected heart rate  %VO2max   VO2  EPOC  Respiration rate  \\\n",
       "0  Artifact corrected heart rate  %VO2max   VO2  EPOC  Respiration rate   \n",
       "1                          76.86  12.2594  6.91  0.01             16.26   \n",
       "2                          76.86  12.2594  6.91  0.01             16.26   \n",
       "3                          76.86  12.2594  6.91  0.01             16.26   \n",
       "4                          76.86  12.2594  6.91  0.01             16.26   \n",
       "\n",
       "   Ventilation  Energy expenditure  Energy expenditure from fats  VLF Power  \\\n",
       "0  Ventilation  Energy expenditure  Energy expenditure from fats  VLF Power   \n",
       "1         9.44                2.42                         51.07     102.80   \n",
       "2         9.44                2.42                         51.07     102.80   \n",
       "3         9.44                2.42                         51.07     102.80   \n",
       "4         9.44                2.42                         51.07     102.80   \n",
       "\n",
       "   LF Power  HF Power  HF2 Power  NaN  \n",
       "0  LF Power  HF Power  HF2 Power  NaN  \n",
       "1  16058.50   3812.67    4165.51  NaN  \n",
       "2  16058.50   3812.67    4165.51  NaN  \n",
       "3  16058.50   3812.67    4165.51  NaN  \n",
       "4  16058.50   3812.67    4165.51  NaN  "
      ]
     },
     "execution_count": 247,
     "metadata": {},
     "output_type": "execute_result"
    }
   ],
   "source": [
    "data.head()"
   ]
  },
  {
   "cell_type": "code",
   "execution_count": 248,
   "id": "9fb0fbfd",
   "metadata": {},
   "outputs": [],
   "source": [
    "data=data.drop(labels=0,axis=0)"
   ]
  },
  {
   "cell_type": "code",
   "execution_count": 249,
   "id": "7abe1ae7",
   "metadata": {},
   "outputs": [
    {
     "data": {
      "text/html": [
       "<div>\n",
       "<style scoped>\n",
       "    .dataframe tbody tr th:only-of-type {\n",
       "        vertical-align: middle;\n",
       "    }\n",
       "\n",
       "    .dataframe tbody tr th {\n",
       "        vertical-align: top;\n",
       "    }\n",
       "\n",
       "    .dataframe thead th {\n",
       "        text-align: right;\n",
       "    }\n",
       "</style>\n",
       "<table border=\"1\" class=\"dataframe\">\n",
       "  <thead>\n",
       "    <tr style=\"text-align: right;\">\n",
       "      <th></th>\n",
       "      <th>Cumulative time</th>\n",
       "      <th>Real time</th>\n",
       "      <th>Physiological stage</th>\n",
       "      <th>Artifact corrected heart rate</th>\n",
       "      <th>%VO2max</th>\n",
       "      <th>VO2</th>\n",
       "      <th>EPOC</th>\n",
       "      <th>Respiration rate</th>\n",
       "      <th>Ventilation</th>\n",
       "      <th>Energy expenditure</th>\n",
       "      <th>Energy expenditure from fats</th>\n",
       "      <th>VLF Power</th>\n",
       "      <th>LF Power</th>\n",
       "      <th>HF Power</th>\n",
       "      <th>HF2 Power</th>\n",
       "      <th>NaN</th>\n",
       "    </tr>\n",
       "  </thead>\n",
       "  <tbody>\n",
       "    <tr>\n",
       "      <th>1</th>\n",
       "      <td>0</td>\n",
       "      <td>04:36:49</td>\n",
       "      <td>10.00</td>\n",
       "      <td>76.86</td>\n",
       "      <td>12.2594</td>\n",
       "      <td>6.91</td>\n",
       "      <td>0.01</td>\n",
       "      <td>16.26</td>\n",
       "      <td>9.44</td>\n",
       "      <td>2.42</td>\n",
       "      <td>51.07</td>\n",
       "      <td>102.80</td>\n",
       "      <td>16058.50</td>\n",
       "      <td>3812.67</td>\n",
       "      <td>4165.51</td>\n",
       "      <td>NaN</td>\n",
       "    </tr>\n",
       "    <tr>\n",
       "      <th>2</th>\n",
       "      <td>1</td>\n",
       "      <td>04:36:50</td>\n",
       "      <td>10.00</td>\n",
       "      <td>76.86</td>\n",
       "      <td>12.2594</td>\n",
       "      <td>6.91</td>\n",
       "      <td>0.01</td>\n",
       "      <td>16.26</td>\n",
       "      <td>9.44</td>\n",
       "      <td>2.42</td>\n",
       "      <td>51.07</td>\n",
       "      <td>102.80</td>\n",
       "      <td>16058.50</td>\n",
       "      <td>3812.67</td>\n",
       "      <td>4165.51</td>\n",
       "      <td>NaN</td>\n",
       "    </tr>\n",
       "    <tr>\n",
       "      <th>3</th>\n",
       "      <td>2</td>\n",
       "      <td>04:36:51</td>\n",
       "      <td>10.00</td>\n",
       "      <td>76.86</td>\n",
       "      <td>12.2594</td>\n",
       "      <td>6.91</td>\n",
       "      <td>0.01</td>\n",
       "      <td>16.26</td>\n",
       "      <td>9.44</td>\n",
       "      <td>2.42</td>\n",
       "      <td>51.07</td>\n",
       "      <td>102.80</td>\n",
       "      <td>16058.50</td>\n",
       "      <td>3812.67</td>\n",
       "      <td>4165.51</td>\n",
       "      <td>NaN</td>\n",
       "    </tr>\n",
       "    <tr>\n",
       "      <th>4</th>\n",
       "      <td>3</td>\n",
       "      <td>04:36:52</td>\n",
       "      <td>10.00</td>\n",
       "      <td>76.86</td>\n",
       "      <td>12.2594</td>\n",
       "      <td>6.91</td>\n",
       "      <td>0.01</td>\n",
       "      <td>16.26</td>\n",
       "      <td>9.44</td>\n",
       "      <td>2.42</td>\n",
       "      <td>51.07</td>\n",
       "      <td>102.80</td>\n",
       "      <td>16058.50</td>\n",
       "      <td>3812.67</td>\n",
       "      <td>4165.51</td>\n",
       "      <td>NaN</td>\n",
       "    </tr>\n",
       "    <tr>\n",
       "      <th>5</th>\n",
       "      <td>4</td>\n",
       "      <td>04:36:53</td>\n",
       "      <td>10.00</td>\n",
       "      <td>76.86</td>\n",
       "      <td>12.2350</td>\n",
       "      <td>6.90</td>\n",
       "      <td>0.02</td>\n",
       "      <td>16.26</td>\n",
       "      <td>9.43</td>\n",
       "      <td>2.41</td>\n",
       "      <td>51.09</td>\n",
       "      <td>102.80</td>\n",
       "      <td>16058.50</td>\n",
       "      <td>3812.67</td>\n",
       "      <td>4165.51</td>\n",
       "      <td>NaN</td>\n",
       "    </tr>\n",
       "  </tbody>\n",
       "</table>\n",
       "</div>"
      ],
      "text/plain": [
       "  Cumulative time Real time Physiological stage Artifact corrected heart rate  \\\n",
       "1               0  04:36:49               10.00                         76.86   \n",
       "2               1  04:36:50               10.00                         76.86   \n",
       "3               2  04:36:51               10.00                         76.86   \n",
       "4               3  04:36:52               10.00                         76.86   \n",
       "5               4  04:36:53               10.00                         76.86   \n",
       "\n",
       "   %VO2max   VO2  EPOC Respiration rate Ventilation Energy expenditure  \\\n",
       "1  12.2594  6.91  0.01            16.26        9.44               2.42   \n",
       "2  12.2594  6.91  0.01            16.26        9.44               2.42   \n",
       "3  12.2594  6.91  0.01            16.26        9.44               2.42   \n",
       "4  12.2594  6.91  0.01            16.26        9.44               2.42   \n",
       "5  12.2350  6.90  0.02            16.26        9.43               2.41   \n",
       "\n",
       "  Energy expenditure from fats VLF Power  LF Power HF Power HF2 Power  NaN  \n",
       "1                        51.07    102.80  16058.50  3812.67   4165.51  NaN  \n",
       "2                        51.07    102.80  16058.50  3812.67   4165.51  NaN  \n",
       "3                        51.07    102.80  16058.50  3812.67   4165.51  NaN  \n",
       "4                        51.07    102.80  16058.50  3812.67   4165.51  NaN  \n",
       "5                        51.09    102.80  16058.50  3812.67   4165.51  NaN  "
      ]
     },
     "execution_count": 249,
     "metadata": {},
     "output_type": "execute_result"
    }
   ],
   "source": [
    "data.head()"
   ]
  },
  {
   "cell_type": "code",
   "execution_count": 250,
   "id": "f8df655b",
   "metadata": {
    "scrolled": true
   },
   "outputs": [
    {
     "name": "stdout",
     "output_type": "stream",
     "text": [
      "<class 'pandas.core.frame.DataFrame'>\n",
      "RangeIndex: 11576 entries, 1 to 11576\n",
      "Data columns (total 16 columns):\n",
      " #   Column                         Non-Null Count  Dtype  \n",
      "---  ------                         --------------  -----  \n",
      " 0   Cumulative time                11576 non-null  object \n",
      " 1   Real time                      11576 non-null  object \n",
      " 2   Physiological stage            11576 non-null  object \n",
      " 3   Artifact corrected heart rate  11576 non-null  object \n",
      " 4   %VO2max                        11576 non-null  object \n",
      " 5   VO2                            11576 non-null  object \n",
      " 6   EPOC                           11576 non-null  object \n",
      " 7   Respiration rate               11576 non-null  object \n",
      " 8   Ventilation                    11576 non-null  object \n",
      " 9   Energy expenditure             11576 non-null  object \n",
      " 10  Energy expenditure from fats   11576 non-null  object \n",
      " 11  VLF Power                      11576 non-null  object \n",
      " 12  LF Power                       11576 non-null  object \n",
      " 13  HF Power                       11576 non-null  object \n",
      " 14  HF2 Power                      11576 non-null  object \n",
      " 15  nan                            0 non-null      float64\n",
      "dtypes: float64(1), object(15)\n",
      "memory usage: 1.4+ MB\n"
     ]
    }
   ],
   "source": [
    "data.info()"
   ]
  },
  {
   "cell_type": "code",
   "execution_count": 251,
   "id": "6f4ed30f",
   "metadata": {},
   "outputs": [],
   "source": [
    "data['Artifact corrected heart rate']=pd.to_numeric(data['Artifact corrected heart rate'])"
   ]
  },
  {
   "cell_type": "code",
   "execution_count": 252,
   "id": "6f6e3462",
   "metadata": {},
   "outputs": [
    {
     "name": "stdout",
     "output_type": "stream",
     "text": [
      "<class 'pandas.core.frame.DataFrame'>\n",
      "RangeIndex: 11576 entries, 1 to 11576\n",
      "Data columns (total 16 columns):\n",
      " #   Column                         Non-Null Count  Dtype  \n",
      "---  ------                         --------------  -----  \n",
      " 0   Cumulative time                11576 non-null  object \n",
      " 1   Real time                      11576 non-null  object \n",
      " 2   Physiological stage            11576 non-null  object \n",
      " 3   Artifact corrected heart rate  11576 non-null  float64\n",
      " 4   %VO2max                        11576 non-null  object \n",
      " 5   VO2                            11576 non-null  object \n",
      " 6   EPOC                           11576 non-null  object \n",
      " 7   Respiration rate               11576 non-null  object \n",
      " 8   Ventilation                    11576 non-null  object \n",
      " 9   Energy expenditure             11576 non-null  object \n",
      " 10  Energy expenditure from fats   11576 non-null  object \n",
      " 11  VLF Power                      11576 non-null  object \n",
      " 12  LF Power                       11576 non-null  object \n",
      " 13  HF Power                       11576 non-null  object \n",
      " 14  HF2 Power                      11576 non-null  object \n",
      " 15  nan                            0 non-null      float64\n",
      "dtypes: float64(2), object(14)\n",
      "memory usage: 1.4+ MB\n"
     ]
    }
   ],
   "source": [
    "data.info()"
   ]
  },
  {
   "cell_type": "code",
   "execution_count": 253,
   "id": "d4b5b698",
   "metadata": {},
   "outputs": [],
   "source": [
    "# data['Artifact corrected heart rate']=data['Artifact corrected heart rate'].astype(int)"
   ]
  },
  {
   "cell_type": "code",
   "execution_count": 254,
   "id": "a4ebe493",
   "metadata": {},
   "outputs": [],
   "source": [
    "# data.info()"
   ]
  },
  {
   "cell_type": "code",
   "execution_count": 255,
   "id": "e4a962d1",
   "metadata": {},
   "outputs": [],
   "source": [
    "data['%VO2max']=pd.to_numeric(data['%VO2max'])"
   ]
  },
  {
   "cell_type": "code",
   "execution_count": 256,
   "id": "ced38c8e",
   "metadata": {},
   "outputs": [
    {
     "name": "stdout",
     "output_type": "stream",
     "text": [
      "<class 'pandas.core.frame.DataFrame'>\n",
      "RangeIndex: 11576 entries, 1 to 11576\n",
      "Data columns (total 16 columns):\n",
      " #   Column                         Non-Null Count  Dtype  \n",
      "---  ------                         --------------  -----  \n",
      " 0   Cumulative time                11576 non-null  object \n",
      " 1   Real time                      11576 non-null  object \n",
      " 2   Physiological stage            11576 non-null  object \n",
      " 3   Artifact corrected heart rate  11576 non-null  float64\n",
      " 4   %VO2max                        11576 non-null  float64\n",
      " 5   VO2                            11576 non-null  object \n",
      " 6   EPOC                           11576 non-null  object \n",
      " 7   Respiration rate               11576 non-null  object \n",
      " 8   Ventilation                    11576 non-null  object \n",
      " 9   Energy expenditure             11576 non-null  object \n",
      " 10  Energy expenditure from fats   11576 non-null  object \n",
      " 11  VLF Power                      11576 non-null  object \n",
      " 12  LF Power                       11576 non-null  object \n",
      " 13  HF Power                       11576 non-null  object \n",
      " 14  HF2 Power                      11576 non-null  object \n",
      " 15  nan                            0 non-null      float64\n",
      "dtypes: float64(3), object(13)\n",
      "memory usage: 1.4+ MB\n"
     ]
    }
   ],
   "source": [
    "data.info()"
   ]
  },
  {
   "cell_type": "code",
   "execution_count": 257,
   "id": "da236388",
   "metadata": {},
   "outputs": [],
   "source": [
    "data['%VO2max']=data['%VO2max'].astype(int)"
   ]
  },
  {
   "cell_type": "code",
   "execution_count": 258,
   "id": "7670195b",
   "metadata": {},
   "outputs": [
    {
     "name": "stdout",
     "output_type": "stream",
     "text": [
      "<class 'pandas.core.frame.DataFrame'>\n",
      "RangeIndex: 11576 entries, 1 to 11576\n",
      "Data columns (total 16 columns):\n",
      " #   Column                         Non-Null Count  Dtype  \n",
      "---  ------                         --------------  -----  \n",
      " 0   Cumulative time                11576 non-null  object \n",
      " 1   Real time                      11576 non-null  object \n",
      " 2   Physiological stage            11576 non-null  object \n",
      " 3   Artifact corrected heart rate  11576 non-null  float64\n",
      " 4   %VO2max                        11576 non-null  int32  \n",
      " 5   VO2                            11576 non-null  object \n",
      " 6   EPOC                           11576 non-null  object \n",
      " 7   Respiration rate               11576 non-null  object \n",
      " 8   Ventilation                    11576 non-null  object \n",
      " 9   Energy expenditure             11576 non-null  object \n",
      " 10  Energy expenditure from fats   11576 non-null  object \n",
      " 11  VLF Power                      11576 non-null  object \n",
      " 12  LF Power                       11576 non-null  object \n",
      " 13  HF Power                       11576 non-null  object \n",
      " 14  HF2 Power                      11576 non-null  object \n",
      " 15  nan                            0 non-null      float64\n",
      "dtypes: float64(2), int32(1), object(13)\n",
      "memory usage: 1.4+ MB\n"
     ]
    }
   ],
   "source": [
    "data.info()"
   ]
  },
  {
   "cell_type": "code",
   "execution_count": 259,
   "id": "8f51a7d4",
   "metadata": {},
   "outputs": [
    {
     "data": {
      "text/html": [
       "<div>\n",
       "<style scoped>\n",
       "    .dataframe tbody tr th:only-of-type {\n",
       "        vertical-align: middle;\n",
       "    }\n",
       "\n",
       "    .dataframe tbody tr th {\n",
       "        vertical-align: top;\n",
       "    }\n",
       "\n",
       "    .dataframe thead th {\n",
       "        text-align: right;\n",
       "    }\n",
       "</style>\n",
       "<table border=\"1\" class=\"dataframe\">\n",
       "  <thead>\n",
       "    <tr style=\"text-align: right;\">\n",
       "      <th></th>\n",
       "      <th>Cumulative time</th>\n",
       "      <th>Real time</th>\n",
       "      <th>Physiological stage</th>\n",
       "      <th>Artifact corrected heart rate</th>\n",
       "      <th>%VO2max</th>\n",
       "      <th>VO2</th>\n",
       "      <th>EPOC</th>\n",
       "      <th>Respiration rate</th>\n",
       "      <th>Ventilation</th>\n",
       "      <th>Energy expenditure</th>\n",
       "      <th>Energy expenditure from fats</th>\n",
       "      <th>VLF Power</th>\n",
       "      <th>LF Power</th>\n",
       "      <th>HF Power</th>\n",
       "      <th>HF2 Power</th>\n",
       "      <th>NaN</th>\n",
       "    </tr>\n",
       "  </thead>\n",
       "  <tbody>\n",
       "    <tr>\n",
       "      <th>1</th>\n",
       "      <td>0</td>\n",
       "      <td>04:36:49</td>\n",
       "      <td>10.00</td>\n",
       "      <td>76.86</td>\n",
       "      <td>12</td>\n",
       "      <td>6.91</td>\n",
       "      <td>0.01</td>\n",
       "      <td>16.26</td>\n",
       "      <td>9.44</td>\n",
       "      <td>2.42</td>\n",
       "      <td>51.07</td>\n",
       "      <td>102.80</td>\n",
       "      <td>16058.50</td>\n",
       "      <td>3812.67</td>\n",
       "      <td>4165.51</td>\n",
       "      <td>NaN</td>\n",
       "    </tr>\n",
       "    <tr>\n",
       "      <th>2</th>\n",
       "      <td>1</td>\n",
       "      <td>04:36:50</td>\n",
       "      <td>10.00</td>\n",
       "      <td>76.86</td>\n",
       "      <td>12</td>\n",
       "      <td>6.91</td>\n",
       "      <td>0.01</td>\n",
       "      <td>16.26</td>\n",
       "      <td>9.44</td>\n",
       "      <td>2.42</td>\n",
       "      <td>51.07</td>\n",
       "      <td>102.80</td>\n",
       "      <td>16058.50</td>\n",
       "      <td>3812.67</td>\n",
       "      <td>4165.51</td>\n",
       "      <td>NaN</td>\n",
       "    </tr>\n",
       "    <tr>\n",
       "      <th>3</th>\n",
       "      <td>2</td>\n",
       "      <td>04:36:51</td>\n",
       "      <td>10.00</td>\n",
       "      <td>76.86</td>\n",
       "      <td>12</td>\n",
       "      <td>6.91</td>\n",
       "      <td>0.01</td>\n",
       "      <td>16.26</td>\n",
       "      <td>9.44</td>\n",
       "      <td>2.42</td>\n",
       "      <td>51.07</td>\n",
       "      <td>102.80</td>\n",
       "      <td>16058.50</td>\n",
       "      <td>3812.67</td>\n",
       "      <td>4165.51</td>\n",
       "      <td>NaN</td>\n",
       "    </tr>\n",
       "    <tr>\n",
       "      <th>4</th>\n",
       "      <td>3</td>\n",
       "      <td>04:36:52</td>\n",
       "      <td>10.00</td>\n",
       "      <td>76.86</td>\n",
       "      <td>12</td>\n",
       "      <td>6.91</td>\n",
       "      <td>0.01</td>\n",
       "      <td>16.26</td>\n",
       "      <td>9.44</td>\n",
       "      <td>2.42</td>\n",
       "      <td>51.07</td>\n",
       "      <td>102.80</td>\n",
       "      <td>16058.50</td>\n",
       "      <td>3812.67</td>\n",
       "      <td>4165.51</td>\n",
       "      <td>NaN</td>\n",
       "    </tr>\n",
       "    <tr>\n",
       "      <th>5</th>\n",
       "      <td>4</td>\n",
       "      <td>04:36:53</td>\n",
       "      <td>10.00</td>\n",
       "      <td>76.86</td>\n",
       "      <td>12</td>\n",
       "      <td>6.90</td>\n",
       "      <td>0.02</td>\n",
       "      <td>16.26</td>\n",
       "      <td>9.43</td>\n",
       "      <td>2.41</td>\n",
       "      <td>51.09</td>\n",
       "      <td>102.80</td>\n",
       "      <td>16058.50</td>\n",
       "      <td>3812.67</td>\n",
       "      <td>4165.51</td>\n",
       "      <td>NaN</td>\n",
       "    </tr>\n",
       "  </tbody>\n",
       "</table>\n",
       "</div>"
      ],
      "text/plain": [
       "  Cumulative time Real time Physiological stage  \\\n",
       "1               0  04:36:49               10.00   \n",
       "2               1  04:36:50               10.00   \n",
       "3               2  04:36:51               10.00   \n",
       "4               3  04:36:52               10.00   \n",
       "5               4  04:36:53               10.00   \n",
       "\n",
       "   Artifact corrected heart rate  %VO2max   VO2  EPOC Respiration rate  \\\n",
       "1                          76.86       12  6.91  0.01            16.26   \n",
       "2                          76.86       12  6.91  0.01            16.26   \n",
       "3                          76.86       12  6.91  0.01            16.26   \n",
       "4                          76.86       12  6.91  0.01            16.26   \n",
       "5                          76.86       12  6.90  0.02            16.26   \n",
       "\n",
       "  Ventilation Energy expenditure Energy expenditure from fats VLF Power  \\\n",
       "1        9.44               2.42                        51.07    102.80   \n",
       "2        9.44               2.42                        51.07    102.80   \n",
       "3        9.44               2.42                        51.07    102.80   \n",
       "4        9.44               2.42                        51.07    102.80   \n",
       "5        9.43               2.41                        51.09    102.80   \n",
       "\n",
       "   LF Power HF Power HF2 Power  NaN  \n",
       "1  16058.50  3812.67   4165.51  NaN  \n",
       "2  16058.50  3812.67   4165.51  NaN  \n",
       "3  16058.50  3812.67   4165.51  NaN  \n",
       "4  16058.50  3812.67   4165.51  NaN  \n",
       "5  16058.50  3812.67   4165.51  NaN  "
      ]
     },
     "execution_count": 259,
     "metadata": {},
     "output_type": "execute_result"
    }
   ],
   "source": [
    "data.head()"
   ]
  },
  {
   "cell_type": "code",
   "execution_count": 260,
   "id": "d9914be1",
   "metadata": {},
   "outputs": [
    {
     "name": "stdout",
     "output_type": "stream",
     "text": [
      "<class 'pandas.core.frame.DataFrame'>\n",
      "RangeIndex: 11576 entries, 1 to 11576\n",
      "Data columns (total 16 columns):\n",
      " #   Column                         Non-Null Count  Dtype  \n",
      "---  ------                         --------------  -----  \n",
      " 0   Cumulative time                11576 non-null  object \n",
      " 1   Real time                      11576 non-null  object \n",
      " 2   Physiological stage            11576 non-null  object \n",
      " 3   Artifact corrected heart rate  11576 non-null  float64\n",
      " 4   %VO2max                        11576 non-null  int32  \n",
      " 5   VO2                            11576 non-null  object \n",
      " 6   EPOC                           11576 non-null  object \n",
      " 7   Respiration rate               11576 non-null  object \n",
      " 8   Ventilation                    11576 non-null  object \n",
      " 9   Energy expenditure             11576 non-null  object \n",
      " 10  Energy expenditure from fats   11576 non-null  object \n",
      " 11  VLF Power                      11576 non-null  object \n",
      " 12  LF Power                       11576 non-null  object \n",
      " 13  HF Power                       11576 non-null  object \n",
      " 14  HF2 Power                      11576 non-null  object \n",
      " 15  nan                            0 non-null      float64\n",
      "dtypes: float64(2), int32(1), object(13)\n",
      "memory usage: 1.4+ MB\n"
     ]
    }
   ],
   "source": [
    "data.info()"
   ]
  },
  {
   "cell_type": "code",
   "execution_count": 261,
   "id": "e6c842cd",
   "metadata": {},
   "outputs": [],
   "source": [
    "#v=data['%VO2max']"
   ]
  },
  {
   "cell_type": "code",
   "execution_count": 262,
   "id": "00d7260d",
   "metadata": {},
   "outputs": [],
   "source": [
    "# vo=list(v)\n",
    "# vo2=[]"
   ]
  },
  {
   "cell_type": "code",
   "execution_count": 263,
   "id": "799e2ce4",
   "metadata": {},
   "outputs": [],
   "source": [
    "# for i in vo:\n",
    "#     if i >= 0 and i<=20:\n",
    "#         vo2.append()\n",
    "#     elif i>=21 and i<=30:\n",
    "#         vo2.append(i)\n",
    "#     elif i>=31 and i<=40:\n",
    "#         vo2.append(i)\n",
    "#     elif i>40:\n",
    "#         vo2.append(i)\n",
    "# print(vo2)\n"
   ]
  },
  {
   "cell_type": "code",
   "execution_count": 264,
   "id": "aa0e5a21",
   "metadata": {},
   "outputs": [],
   "source": [
    "# for i in vo:\n",
    "#     if 0<= i <=20:\n",
    "#         vo2.append('green')\n",
    "#     elif 21<= i <=30:\n",
    "#         vo2.append('blue')\n",
    "#     elif 31<= i <=40:\n",
    "#         vo2.append('red')\n",
    "#     elif i>40:\n",
    "#         vo2.append('black')"
   ]
  },
  {
   "cell_type": "code",
   "execution_count": 265,
   "id": "c46af392",
   "metadata": {},
   "outputs": [],
   "source": [
    "# data['%VO2max']=np.array(vo2)"
   ]
  },
  {
   "cell_type": "code",
   "execution_count": 266,
   "id": "6da56364",
   "metadata": {
    "scrolled": true
   },
   "outputs": [],
   "source": [
    "# data.head()"
   ]
  },
  {
   "cell_type": "code",
   "execution_count": 267,
   "id": "1b6b71b0",
   "metadata": {},
   "outputs": [],
   "source": [
    "# 2nd Question"
   ]
  },
  {
   "cell_type": "code",
   "execution_count": 268,
   "id": "9bc66d3d",
   "metadata": {},
   "outputs": [],
   "source": [
    " import matplotlib.pyplot as plt"
   ]
  },
  {
   "cell_type": "code",
   "execution_count": 269,
   "id": "d0d44f4a",
   "metadata": {},
   "outputs": [],
   "source": [
    "data['%VO2max'].value_counts()"
   ]
  },
  {
   "cell_type": "code",
   "execution_count": 270,
   "id": "c39dedea",
   "metadata": {},
   "outputs": [],
   "source": [
    "count_vo=data['%VO2max'].value_counts()"
   ]
  },
  {
   "cell_type": "code",
   "execution_count": 271,
   "id": "ab5ccd9c",
   "metadata": {},
   "outputs": [],
   "source": [
    "s = [[6042,'green'],[3841,'black'],[1073,'blue'],[620,'red']]"
   ]
  },
  {
   "cell_type": "code",
   "execution_count": 272,
   "id": "d9bf3b01",
   "metadata": {},
   "outputs": [],
   "source": [
    "count_vo2 = pd.DataFrame(s, columns=['vals', 'col'])"
   ]
  },
  {
   "cell_type": "code",
   "execution_count": 273,
   "id": "903dba67",
   "metadata": {},
   "outputs": [],
   "source": [
    "count_vo2"
   ]
  },
  {
   "cell_type": "code",
   "execution_count": 274,
   "id": "820c63ab",
   "metadata": {},
   "outputs": [],
   "source": [
    "plt.plot(count_vo2['col'], count_vo2['vals'], color='red')"
   ]
  },
  {
   "cell_type": "code",
   "execution_count": 275,
   "id": "35da5b9b",
   "metadata": {
    "scrolled": true
   },
   "outputs": [],
   "source": [
    "plt.pie(count_vo2[\"vals\"], labels = count_vo2[\"col\"])"
   ]
  },
  {
   "cell_type": "code",
   "execution_count": 276,
   "id": "23975cd0",
   "metadata": {},
   "outputs": [],
   "source": [
    "#3rd Question"
   ]
  },
  {
   "cell_type": "code",
   "execution_count": 277,
   "id": "82ebc3e6",
   "metadata": {},
   "outputs": [],
   "source": [
    "cum_time=data['Cumulative time'].to_list()\n",
    "arti_hr=data['Artifact corrected heart rate'].to_list()"
   ]
  },
  {
   "cell_type": "code",
   "execution_count": 278,
   "id": "b47d6dca",
   "metadata": {},
   "outputs": [
    {
     "data": {
      "image/png": "[encoded data removed]",
      "text/plain": [
       "<Figure size 432x288 with 1 Axes>"
      ]
     },
     "metadata": {
      "needs_background": "light"
     },
     "output_type": "display_data"
    },
    {
     "data": {
      "text/plain": [
       "<Figure size 72x72 with 0 Axes>"
      ]
     },
     "metadata": {},
     "output_type": "display_data"
    }
   ],
   "source": [
    "plt.plot(cum_time,arti_hr,linewidth=0.5)\n",
    "plt.title('Heart rate Signal')\n",
    "plt.xlabel('time')\n",
    "plt.ylabel('heart rate')\n",
    "plt.figure(figsize=(1,1))\n",
    "plt.show()"
   ]
  },
  {
   "cell_type": "code",
   "execution_count": 279,
   "id": "1f169cf2",
   "metadata": {},
   "outputs": [],
   "source": [
    "Vo2max=data['%VO2max'].to_list()\n",
    "arti_hr=data['Artifact corrected heart rate'].to_list()"
   ]
  },
  {
   "cell_type": "code",
   "execution_count": null,
   "id": "928ba30d",
   "metadata": {},
   "outputs": [],
   "source": [
    "#Line graph"
   ]
  },
  {
   "cell_type": "code",
   "execution_count": 309,
   "id": "e8dbeeef",
   "metadata": {},
   "outputs": [
    {
     "data": {
      "image/png": "[encoded data removed]",
      "text/plain": [
       "<Figure size 432x288 with 1 Axes>"
      ]
     },
     "metadata": {
      "needs_background": "light"
     },
     "output_type": "display_data"
    }
   ],
   "source": [
    "import matplotlib.pyplot as plt\n",
    "for i in range(len(Vo2max)):\n",
    "    if Vo2max[i] >= 0 and Vo2max[i] <= 20:\n",
    "        plt.plot(arti_hr[i],Vo2max[i],color='green',marker='.')\n",
    "#         plt.hold(True)\n",
    "#         plt.show()\n",
    "\n",
    "    elif Vo2max[i] >= 21 and Vo2max[i] <=30:\n",
    "        plt.plot(arti_hr[i],Vo2max[i],color='red',marker='.')\n",
    "    elif Vo2max[i] >= 31 and Vo2max[i] <=40:\n",
    "        plt.plot(arti_hr[i],Vo2max[i],color='blue',marker='.')\n",
    "    elif Vo2max[i] > 40:\n",
    "        plt.plot(arti_hr[i],Vo2max[i],color='black',marker='.')    \n",
    "        \n",
    "plt.show()\n",
    "\n"
   ]
  },
  {
   "cell_type": "code",
   "execution_count": 280,
   "id": "8becd9cb",
   "metadata": {},
   "outputs": [
    {
     "data": {
      "text/plain": [
       "1        12\n",
       "2        12\n",
       "3        12\n",
       "4        12\n",
       "5        12\n",
       "         ..\n",
       "11572    14\n",
       "11573    14\n",
       "11574    14\n",
       "11575    14\n",
       "11576    14\n",
       "Name: %VO2max, Length: 11576, dtype: int32"
      ]
     },
     "execution_count": 280,
     "metadata": {},
     "output_type": "execute_result"
    }
   ],
   "source": [
    "data['%VO2max']"
   ]
  },
  {
   "cell_type": "code",
   "execution_count": 281,
   "id": "5008bf5a",
   "metadata": {},
   "outputs": [
    {
     "name": "stdout",
     "output_type": "stream",
     "text": [
      "<class 'pandas.core.frame.DataFrame'>\n",
      "RangeIndex: 11576 entries, 1 to 11576\n",
      "Data columns (total 16 columns):\n",
      " #   Column                         Non-Null Count  Dtype  \n",
      "---  ------                         --------------  -----  \n",
      " 0   Cumulative time                11576 non-null  object \n",
      " 1   Real time                      11576 non-null  object \n",
      " 2   Physiological stage            11576 non-null  object \n",
      " 3   Artifact corrected heart rate  11576 non-null  float64\n",
      " 4   %VO2max                        11576 non-null  int32  \n",
      " 5   VO2                            11576 non-null  object \n",
      " 6   EPOC                           11576 non-null  object \n",
      " 7   Respiration rate               11576 non-null  object \n",
      " 8   Ventilation                    11576 non-null  object \n",
      " 9   Energy expenditure             11576 non-null  object \n",
      " 10  Energy expenditure from fats   11576 non-null  object \n",
      " 11  VLF Power                      11576 non-null  object \n",
      " 12  LF Power                       11576 non-null  object \n",
      " 13  HF Power                       11576 non-null  object \n",
      " 14  HF2 Power                      11576 non-null  object \n",
      " 15  nan                            0 non-null      float64\n",
      "dtypes: float64(2), int32(1), object(13)\n",
      "memory usage: 1.4+ MB\n"
     ]
    }
   ],
   "source": [
    "data.info()"
   ]
  },
  {
   "cell_type": "code",
   "execution_count": 291,
   "id": "315659b9",
   "metadata": {},
   "outputs": [
    {
     "name": "stdout",
     "output_type": "stream",
     "text": [
      "11576\n"
     ]
    }
   ],
   "source": [
    "G=[]\n",
    "R=[]\n",
    "B=[]\n",
    "Bl=[]\n",
    "print(len(Vo2max))\n",
    "for i in range(len(Vo2max)):\n",
    "#     print (i, end = \" \")\n",
    "#     print (Vo2max[i])\n",
    "    if Vo2max[i] >=0 and Vo2max[i]<=20:\n",
    "        G.append(i)\n",
    "    elif Vo2max[i] >=21 and Vo2max[i]<=30:\n",
    "        R.append(i)\n",
    "    elif Vo2max[i] >=31 and Vo2max[i]<=40:\n",
    "        B.append(i)\n",
    "    else:\n",
    "        Bl.append(i) \n"
   ]
  },
  {
   "cell_type": "code",
   "execution_count": null,
   "id": "064281b9",
   "metadata": {},
   "outputs": [],
   "source": [
    "# G=[]\n",
    "# R=[]\n",
    "# B=[]\n",
    "# Bl=[]\n",
    "# print(len(Vo2max))\n",
    "# for i in range(len(Vo2max)):\n",
    "# #     print (i, end = \" \")\n",
    "# #     print (Vo2max[i])\n",
    "#     if Vo2max[i] == \"green\":\n",
    "#         G.append(i)\n",
    "#     elif Vo2max[i] == \"red\":\n",
    "#         R.append(i)\n",
    "#     elif Vo2max[i] == \"blue\":\n",
    "#         B.append(i)\n",
    "#     else:\n",
    "#         Bl.append(i)        \n",
    "# print(len(G))\n",
    "# print(len(arti_hr))\n",
    "# print(G)"
   ]
  },
  {
   "cell_type": "code",
   "execution_count": 306,
   "id": "5e19adfc",
   "metadata": {},
   "outputs": [
    {
     "data": {
      "image/png": "[encoded data removed]",
      "text/plain": [
       "<Figure size 432x288 with 1 Axes>"
      ]
     },
     "metadata": {
      "needs_background": "light"
     },
     "output_type": "display_data"
    }
   ],
   "source": [
    "import matplotlib.pyplot as plt\n",
    "for i in range(len(arti_hr)):\n",
    "    if arti_hr[i] >= 80 and arti_hr[i] <= 120:\n",
    "        plt.plot(i,arti_hr[i],color='red',marker='.')\n",
    "#         plt.hold(True)\n",
    "#         plt.show()\n",
    "\n",
    "    elif arti_hr[i] >= 121 and arti_hr[i] <=200:\n",
    "        plt.plot(i,arti_hr[i],color='blue',marker='.')\n",
    "#         plt.hold(True)\n",
    "plt.show()"
   ]
  },
  {
   "cell_type": "code",
   "execution_count": null,
   "id": "6986c550",
   "metadata": {},
   "outputs": [],
   "source": [
    "# import numpy as np\n",
    "# import matplotlib.pyplot as plt\n",
    "# from matplotlib.collections import LineCollection\n",
    "# from matplotlib.colors import ListedColormap, BoundaryNorm\n",
    "\n",
    "# x = Vo2max\n",
    "# y = arti_hr\n",
    "# dydx = np.cos(1 * (x[:-1] + x[1:]))  # first derivative\n",
    "\n",
    "# Create a set of line segments so that we can color them individually\n",
    "# This creates the points as a N x 1 x 2 array so that we can stack points\n",
    "# together easily to get the segments. The segments array for line collection\n",
    "# needs to be (numlines) x (points per line) x 2 (for x and y)\n",
    "# points = np.array([x, y]).T.reshape(-1, 1, 2)\n",
    "# segments = np.concatenate([points[:-1], points[1:]], axis=1)\n",
    "\n",
    "# fig, axs = plt.subplots(2, 1, sharex=True, sharey=True)\n",
    "\n",
    "# Create a continuous norm to map from data points to colors\n",
    "# norm = plt.Normalize(x,y)\n",
    "# lc = LineCollection(segments, cmap='viridis')\n",
    "# Set the values used for colormapping\n",
    "# lc.set_array(dydx)\n",
    "# lc.set_linewidth(2)\n",
    "# line = axs[0].add_collection(lc)\n",
    "# fig.colorbar(line, ax=axs[0])\n",
    "\n",
    "# Use a boundary norm instead\n",
    "# cmap = ListedColormap(['r', 'g', 'b'])\n",
    "# norm = BoundaryNorm([-1, -0.5, 0.5, 1], cmap.N)\n",
    "# lc = LineCollection(segments, cmap=cmap)\n",
    "# lc.set_array(dydx)\n",
    "# lc.set_linewidth(2)\n",
    "# line = axs[1].add_collection(lc)\n",
    "# fig.colorbar(line, ax=axs[1])\n",
    "\n",
    "# axs[0].set_xlim(x,y)\n",
    "# axs[0].set_ylim(-1.1, 1.1)\n",
    "# plt.show()"
   ]
  },
  {
   "cell_type": "code",
   "execution_count": null,
   "id": "05286396",
   "metadata": {},
   "outputs": [],
   "source": [
    "# import matplotlib.style as style\n",
    "# style.use('fivethirtyeight')\n",
    "\n",
    "# plt.figure(figsize=(20,12))\n",
    "\n",
    "# grid = plt.GridSpec(1,1, wspace = .25, hspace = .25)\n",
    "\n",
    "# ax1 = plt.subplot(grid[0,0])\n",
    "\n",
    "# for ax in [ax1]:\n",
    "#     ax.set_yticks([1.2,1.4,1.6])\n",
    "#     ax.set_ylim(1,2)\n",
    "#     ax.set_xlim(Vo2max)\n",
    "#     ax.set_xticks(data.arti_hr)\n",
    "#     ax.set_xticklabels(['2001','2009','2017','2021'])\n",
    "\n",
    "# ax1.plot(G, color='green')\n",
    "# ax1.plot(R, color='red')    \n",
    "# ax1.plot(B, color='skyblue')   \n",
    "\n",
    "# plt.axvline(dt.datetime(2009,1,1), alpha=0.2, linewidth=4, color='grey',linestyle='dotted')\n",
    "# plt.axvline(dt.datetime(2017,1,1), alpha=0.2, linewidth=4, color='grey',linestyle='dotted')\n",
    "# plt.axvline(dt.datetime(2021,1,1), alpha=0.2, linewidth=4, color='grey',linestyle='dotted') \n",
    "# plt.axvline(dt.datetime(2001,1,1), alpha=0.2, linewidth=4, color='grey',linestyle='dotted')\n",
    "#plt.axhline(1.22, linewidth=2, color='black',linestyle='dashed', xmin=0.01, xmax=0.99)\n",
    "\n",
    "# ax.text(dt.datetime(2004,3,1),1.55,s=\"BUSH\",size=15, color= 'lightgreen', weight='bold')\n",
    "# ax.text(dt.datetime(2012,1,1),1.55,s=\"OBAMA\",size=15, color= 'lightsalmon', weight='bold')\n",
    "# ax.text(dt.datetime(2018,5,1),1.55,s=\"TRUMP\",size=15, color= 'skyblue', weight='bold')\n",
    "# ax.text(dt.datetime(2000,2,1),1.7,s=\"EUR-USD rate averaged 1.22 under the last 3 US presidents\", size=20, weight='bold')\n",
    "# ax.text(dt.datetime(2000,2,1),1.65,s=\"Some subtitle\", size=20)\n",
    "# ax.text(dt.datetime(2000,1,1),0.65,s=\"DATAQUEST\" + ' '*115+ 'Léon Hekkert',backgroundcolor='#4d4d4d', color='#f0f0f0', size=16)\n",
    "# ax.grid(axis='x')\n",
    "\n",
    "# plt.show()"
   ]
  },
  {
   "cell_type": "code",
   "execution_count": null,
   "id": "9a94af36",
   "metadata": {},
   "outputs": [],
   "source": [
    "from itertools import islice\n",
    " \n",
    "# Input list initialization\n",
    "Input = G\n",
    " \n",
    "# list of length in which we have to split\n",
    "length_to_split = [81,1398]\n",
    " \n",
    "# Using islice\n",
    "Inputt = iter(Input)\n",
    "Output = [list(islice(Inputt, elem))\n",
    "        for elem in length_to_split]\n",
    " \n",
    "# Printing Output\n",
    "\n",
    "print(\"Split length list: \", length_to_split)\n",
    "print(\"List after splitting\", Output)"
   ]
  },
  {
   "cell_type": "code",
   "execution_count": null,
   "id": "18817ddd",
   "metadata": {},
   "outputs": [],
   "source": [
    "import numpy as np\n",
    "import matplotlib.pyplot as plt\n",
    "# start=11575\n",
    "# stop=11576\n",
    "def uniqueish_color():\n",
    "    return plt.cm.gist_ncar(G())\n",
    "xy = G,arti_hr\n",
    "fig, ax = plt.subplots()\n",
    "for start, stop in zip(xy[:-1], xy[1:]):\n",
    "    x, y = zip(start, stop)\n",
    "    \n",
    "    ax.plot(x, y, color=uniqueish_color())\n",
    "plt.show()"
   ]
  },
  {
   "cell_type": "code",
   "execution_count": null,
   "id": "c17f03e0",
   "metadata": {},
   "outputs": [],
   "source": [
    "# plt.plot(Vo2max,arti_hr,linewidth=0.5)\n",
    "# plt.title('Heart rate Signal')\n",
    "# plt.xlabel('%VO2max')\n",
    "# plt.ylabel('heart rate')\n",
    "fig, ax = plt.subplots()\n",
    "for start, stop in (G[:-1], G[1:]):\n",
    "    x,y = (start, stop)\n",
    "    ax.plot(x,y, color='green')\n",
    "plt.show()\n",
    "# plt.figure(figsize=(1,1))\n",
    "# plt.show()"
   ]
  },
  {
   "cell_type": "code",
   "execution_count": null,
   "id": "b506e9c6",
   "metadata": {},
   "outputs": [],
   "source": [
    "off=0\n",
    "rms_noise=6\n",
    "noise=np.random.normal(loc=off,scale=rms_noise,size=11576)\n",
    "measured=np.std(noise)\n",
    "print(measured)"
   ]
  },
  {
   "cell_type": "code",
   "execution_count": null,
   "id": "b3aa8219",
   "metadata": {},
   "outputs": [],
   "source": [
    "hrnoise=noise.tolist()"
   ]
  },
  {
   "cell_type": "code",
   "execution_count": null,
   "id": "372c634b",
   "metadata": {},
   "outputs": [],
   "source": [
    "plt.plot(cum_time,hrnoise,linewidth=0.5)\n",
    "plt.title('Noise Signal')\n",
    "plt.xlabel('time')\n",
    "plt.ylabel('Noise')\n",
    "plt.figure(figsize=(1,1))\n",
    "plt.show()"
   ]
  },
  {
   "cell_type": "code",
   "execution_count": null,
   "id": "3df3f7a9",
   "metadata": {},
   "outputs": [],
   "source": [
    "hr_arr=np.array(arti_hr)\n",
    "no_arr=np.array(hrnoise)\n",
    "print(hr_arr)\n",
    "print(no_arr)"
   ]
  },
  {
   "cell_type": "code",
   "execution_count": null,
   "id": "9e78e230",
   "metadata": {},
   "outputs": [],
   "source": [
    "sig=hr_arr + no_arr\n",
    "print(sig)"
   ]
  },
  {
   "cell_type": "code",
   "execution_count": null,
   "id": "491db5fe",
   "metadata": {},
   "outputs": [],
   "source": [
    "plt.plot(cum_time,sig,linewidth=0.5)\n",
    "plt.title('Noise added Signal')\n",
    "plt.xlabel('time')\n",
    "plt.ylabel('HR')\n",
    "plt.figure(figsize=(1,1))\n",
    "plt.show()"
   ]
  },
  {
   "cell_type": "code",
   "execution_count": null,
   "id": "cba937c0",
   "metadata": {},
   "outputs": [],
   "source": [
    "plt.title('Noise added Signal')\n",
    "plt.xlabel('time')\n",
    "plt.ylabel('HR')\n",
    "plt.plot(cum_time, sig, label = \"Noise added Signal\",linewidth=0.4)\n",
    "plt.plot(cum_time, arti_hr, label = \"filtered Signal\",linewidth=0.9)\n",
    "plt.legend()\n",
    "plt.show()"
   ]
  },
  {
   "cell_type": "code",
   "execution_count": null,
   "id": "0d840b48",
   "metadata": {},
   "outputs": [],
   "source": [
    "import numpy as np"
   ]
  },
  {
   "cell_type": "code",
   "execution_count": null,
   "id": "d9f5ce0b",
   "metadata": {},
   "outputs": [],
   "source": [
    "def signaltonoise(Arr, axis=0, ddof=0):\n",
    "    Arr = np.asanyarray(Arr)\n",
    "    me = Arr.mean(axis)\n",
    "    sd = Arr.std(axis=axis, ddof=ddof)\n",
    "    return np.where(sd == 0, 0, me/sd)\n",
    "Arr=[hr_arr,no_arr]\n",
    "print(signaltonoise(Arr,axis=0,ddof=0))"
   ]
  }
 ],
 "metadata": {
  "kernelspec": {
   "display_name": "Python 3 (ipykernel)",
   "language": "python",
   "name": "python3"
  },
  "language_info": {
   "codemirror_mode": {
    "name": "ipython",
    "version": 3
   },
   "file_extension": ".py",
   "mimetype": "text/x-python",
   "name": "python",
   "nbconvert_exporter": "python",
   "pygments_lexer": "ipython3",
   "version": "3.9.12"
  }
 },
 "nbformat": 4,
 "nbformat_minor": 5
}
