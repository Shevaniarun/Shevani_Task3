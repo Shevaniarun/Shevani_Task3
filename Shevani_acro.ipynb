{
 "cells": [
  {
   "cell_type": "code",
   "execution_count": 87,
   "id": "4bf563a3",
   "metadata": {},
   "outputs": [],
   "source": [
    "import numpy as np\n",
    "import pandas as pd"
   ]
  },
  {
   "cell_type": "code",
   "execution_count": 88,
   "id": "6c1d79c4",
   "metadata": {
    "scrolled": true
   },
   "outputs": [],
   "source": [
    "data= pd.read_csv('C:/Users/sheva/OneDrive/Desktop/input_data_sheva.csv',header=50)"
   ]
  },
  {
   "cell_type": "code",
   "execution_count": 89,
   "id": "e528d857",
   "metadata": {},
   "outputs": [
    {
     "data": {
      "text/html": [
       "<div>\n",
       "<style scoped>\n",
       "    .dataframe tbody tr th:only-of-type {\n",
       "        vertical-align: middle;\n",
       "    }\n",
       "\n",
       "    .dataframe tbody tr th {\n",
       "        vertical-align: top;\n",
       "    }\n",
       "\n",
       "    .dataframe thead th {\n",
       "        text-align: right;\n",
       "    }\n",
       "</style>\n",
       "<table border=\"1\" class=\"dataframe\">\n",
       "  <thead>\n",
       "    <tr style=\"text-align: right;\">\n",
       "      <th></th>\n",
       "      <th>VECTORS</th>\n",
       "      <th>Unnamed: 1</th>\n",
       "      <th>Unnamed: 2</th>\n",
       "      <th>Unnamed: 3</th>\n",
       "      <th>Unnamed: 4</th>\n",
       "      <th>Unnamed: 5</th>\n",
       "      <th>Unnamed: 6</th>\n",
       "      <th>Unnamed: 7</th>\n",
       "      <th>Unnamed: 8</th>\n",
       "      <th>Unnamed: 9</th>\n",
       "      <th>Unnamed: 10</th>\n",
       "      <th>Unnamed: 11</th>\n",
       "      <th>Unnamed: 12</th>\n",
       "      <th>Unnamed: 13</th>\n",
       "      <th>Unnamed: 14</th>\n",
       "      <th>Unnamed: 15</th>\n",
       "    </tr>\n",
       "  </thead>\n",
       "  <tbody>\n",
       "    <tr>\n",
       "      <th>0</th>\n",
       "      <td>Cumulative time</td>\n",
       "      <td>Real time</td>\n",
       "      <td>Physiological stage</td>\n",
       "      <td>Artifact corrected heart rate</td>\n",
       "      <td>%VO2max</td>\n",
       "      <td>VO2</td>\n",
       "      <td>EPOC</td>\n",
       "      <td>Respiration rate</td>\n",
       "      <td>Ventilation</td>\n",
       "      <td>Energy expenditure</td>\n",
       "      <td>Energy expenditure from fats</td>\n",
       "      <td>VLF Power</td>\n",
       "      <td>LF Power</td>\n",
       "      <td>HF Power</td>\n",
       "      <td>HF2 Power</td>\n",
       "      <td>NaN</td>\n",
       "    </tr>\n",
       "    <tr>\n",
       "      <th>1</th>\n",
       "      <td>0</td>\n",
       "      <td>04:36:49</td>\n",
       "      <td>10.00</td>\n",
       "      <td>76.86</td>\n",
       "      <td>12.2594</td>\n",
       "      <td>6.91</td>\n",
       "      <td>0.01</td>\n",
       "      <td>16.26</td>\n",
       "      <td>9.44</td>\n",
       "      <td>2.42</td>\n",
       "      <td>51.07</td>\n",
       "      <td>102.80</td>\n",
       "      <td>16058.50</td>\n",
       "      <td>3812.67</td>\n",
       "      <td>4165.51</td>\n",
       "      <td>NaN</td>\n",
       "    </tr>\n",
       "    <tr>\n",
       "      <th>2</th>\n",
       "      <td>1</td>\n",
       "      <td>04:36:50</td>\n",
       "      <td>10.00</td>\n",
       "      <td>76.86</td>\n",
       "      <td>12.2594</td>\n",
       "      <td>6.91</td>\n",
       "      <td>0.01</td>\n",
       "      <td>16.26</td>\n",
       "      <td>9.44</td>\n",
       "      <td>2.42</td>\n",
       "      <td>51.07</td>\n",
       "      <td>102.80</td>\n",
       "      <td>16058.50</td>\n",
       "      <td>3812.67</td>\n",
       "      <td>4165.51</td>\n",
       "      <td>NaN</td>\n",
       "    </tr>\n",
       "    <tr>\n",
       "      <th>3</th>\n",
       "      <td>2</td>\n",
       "      <td>04:36:51</td>\n",
       "      <td>10.00</td>\n",
       "      <td>76.86</td>\n",
       "      <td>12.2594</td>\n",
       "      <td>6.91</td>\n",
       "      <td>0.01</td>\n",
       "      <td>16.26</td>\n",
       "      <td>9.44</td>\n",
       "      <td>2.42</td>\n",
       "      <td>51.07</td>\n",
       "      <td>102.80</td>\n",
       "      <td>16058.50</td>\n",
       "      <td>3812.67</td>\n",
       "      <td>4165.51</td>\n",
       "      <td>NaN</td>\n",
       "    </tr>\n",
       "    <tr>\n",
       "      <th>4</th>\n",
       "      <td>3</td>\n",
       "      <td>04:36:52</td>\n",
       "      <td>10.00</td>\n",
       "      <td>76.86</td>\n",
       "      <td>12.2594</td>\n",
       "      <td>6.91</td>\n",
       "      <td>0.01</td>\n",
       "      <td>16.26</td>\n",
       "      <td>9.44</td>\n",
       "      <td>2.42</td>\n",
       "      <td>51.07</td>\n",
       "      <td>102.80</td>\n",
       "      <td>16058.50</td>\n",
       "      <td>3812.67</td>\n",
       "      <td>4165.51</td>\n",
       "      <td>NaN</td>\n",
       "    </tr>\n",
       "  </tbody>\n",
       "</table>\n",
       "</div>"
      ],
      "text/plain": [
       "           VECTORS Unnamed: 1           Unnamed: 2  \\\n",
       "0  Cumulative time  Real time  Physiological stage   \n",
       "1                0   04:36:49                10.00   \n",
       "2                1   04:36:50                10.00   \n",
       "3                2   04:36:51                10.00   \n",
       "4                3   04:36:52                10.00   \n",
       "\n",
       "                      Unnamed: 3 Unnamed: 4 Unnamed: 5 Unnamed: 6  \\\n",
       "0  Artifact corrected heart rate    %VO2max        VO2       EPOC   \n",
       "1                          76.86    12.2594       6.91       0.01   \n",
       "2                          76.86    12.2594       6.91       0.01   \n",
       "3                          76.86    12.2594       6.91       0.01   \n",
       "4                          76.86    12.2594       6.91       0.01   \n",
       "\n",
       "         Unnamed: 7   Unnamed: 8          Unnamed: 9  \\\n",
       "0  Respiration rate  Ventilation  Energy expenditure   \n",
       "1             16.26         9.44                2.42   \n",
       "2             16.26         9.44                2.42   \n",
       "3             16.26         9.44                2.42   \n",
       "4             16.26         9.44                2.42   \n",
       "\n",
       "                    Unnamed: 10 Unnamed: 11 Unnamed: 12 Unnamed: 13  \\\n",
       "0  Energy expenditure from fats   VLF Power    LF Power    HF Power   \n",
       "1                         51.07      102.80    16058.50     3812.67   \n",
       "2                         51.07      102.80    16058.50     3812.67   \n",
       "3                         51.07      102.80    16058.50     3812.67   \n",
       "4                         51.07      102.80    16058.50     3812.67   \n",
       "\n",
       "  Unnamed: 14  Unnamed: 15  \n",
       "0   HF2 Power          NaN  \n",
       "1     4165.51          NaN  \n",
       "2     4165.51          NaN  \n",
       "3     4165.51          NaN  \n",
       "4     4165.51          NaN  "
      ]
     },
     "execution_count": 89,
     "metadata": {},
     "output_type": "execute_result"
    }
   ],
   "source": [
    "data.head(5)"
   ]
  },
  {
   "cell_type": "code",
   "execution_count": 90,
   "id": "0e37d52d",
   "metadata": {},
   "outputs": [],
   "source": [
    "cname=data.loc[0]"
   ]
  },
  {
   "cell_type": "code",
   "execution_count": 91,
   "id": "bbf0b5ef",
   "metadata": {},
   "outputs": [],
   "source": [
    "colname=list(cname)"
   ]
  },
  {
   "cell_type": "code",
   "execution_count": 92,
   "id": "cfff1437",
   "metadata": {},
   "outputs": [],
   "source": [
    "data.columns =colname"
   ]
  },
  {
   "cell_type": "code",
   "execution_count": 93,
   "id": "5a7e491e",
   "metadata": {},
   "outputs": [
    {
     "data": {
      "text/html": [
       "<div>\n",
       "<style scoped>\n",
       "    .dataframe tbody tr th:only-of-type {\n",
       "        vertical-align: middle;\n",
       "    }\n",
       "\n",
       "    .dataframe tbody tr th {\n",
       "        vertical-align: top;\n",
       "    }\n",
       "\n",
       "    .dataframe thead th {\n",
       "        text-align: right;\n",
       "    }\n",
       "</style>\n",
       "<table border=\"1\" class=\"dataframe\">\n",
       "  <thead>\n",
       "    <tr style=\"text-align: right;\">\n",
       "      <th></th>\n",
       "      <th>Cumulative time</th>\n",
       "      <th>Real time</th>\n",
       "      <th>Physiological stage</th>\n",
       "      <th>Artifact corrected heart rate</th>\n",
       "      <th>%VO2max</th>\n",
       "      <th>VO2</th>\n",
       "      <th>EPOC</th>\n",
       "      <th>Respiration rate</th>\n",
       "      <th>Ventilation</th>\n",
       "      <th>Energy expenditure</th>\n",
       "      <th>Energy expenditure from fats</th>\n",
       "      <th>VLF Power</th>\n",
       "      <th>LF Power</th>\n",
       "      <th>HF Power</th>\n",
       "      <th>HF2 Power</th>\n",
       "      <th>NaN</th>\n",
       "    </tr>\n",
       "  </thead>\n",
       "  <tbody>\n",
       "    <tr>\n",
       "      <th>0</th>\n",
       "      <td>Cumulative time</td>\n",
       "      <td>Real time</td>\n",
       "      <td>Physiological stage</td>\n",
       "      <td>Artifact corrected heart rate</td>\n",
       "      <td>%VO2max</td>\n",
       "      <td>VO2</td>\n",
       "      <td>EPOC</td>\n",
       "      <td>Respiration rate</td>\n",
       "      <td>Ventilation</td>\n",
       "      <td>Energy expenditure</td>\n",
       "      <td>Energy expenditure from fats</td>\n",
       "      <td>VLF Power</td>\n",
       "      <td>LF Power</td>\n",
       "      <td>HF Power</td>\n",
       "      <td>HF2 Power</td>\n",
       "      <td>NaN</td>\n",
       "    </tr>\n",
       "    <tr>\n",
       "      <th>1</th>\n",
       "      <td>0</td>\n",
       "      <td>04:36:49</td>\n",
       "      <td>10.00</td>\n",
       "      <td>76.86</td>\n",
       "      <td>12.2594</td>\n",
       "      <td>6.91</td>\n",
       "      <td>0.01</td>\n",
       "      <td>16.26</td>\n",
       "      <td>9.44</td>\n",
       "      <td>2.42</td>\n",
       "      <td>51.07</td>\n",
       "      <td>102.80</td>\n",
       "      <td>16058.50</td>\n",
       "      <td>3812.67</td>\n",
       "      <td>4165.51</td>\n",
       "      <td>NaN</td>\n",
       "    </tr>\n",
       "    <tr>\n",
       "      <th>2</th>\n",
       "      <td>1</td>\n",
       "      <td>04:36:50</td>\n",
       "      <td>10.00</td>\n",
       "      <td>76.86</td>\n",
       "      <td>12.2594</td>\n",
       "      <td>6.91</td>\n",
       "      <td>0.01</td>\n",
       "      <td>16.26</td>\n",
       "      <td>9.44</td>\n",
       "      <td>2.42</td>\n",
       "      <td>51.07</td>\n",
       "      <td>102.80</td>\n",
       "      <td>16058.50</td>\n",
       "      <td>3812.67</td>\n",
       "      <td>4165.51</td>\n",
       "      <td>NaN</td>\n",
       "    </tr>\n",
       "    <tr>\n",
       "      <th>3</th>\n",
       "      <td>2</td>\n",
       "      <td>04:36:51</td>\n",
       "      <td>10.00</td>\n",
       "      <td>76.86</td>\n",
       "      <td>12.2594</td>\n",
       "      <td>6.91</td>\n",
       "      <td>0.01</td>\n",
       "      <td>16.26</td>\n",
       "      <td>9.44</td>\n",
       "      <td>2.42</td>\n",
       "      <td>51.07</td>\n",
       "      <td>102.80</td>\n",
       "      <td>16058.50</td>\n",
       "      <td>3812.67</td>\n",
       "      <td>4165.51</td>\n",
       "      <td>NaN</td>\n",
       "    </tr>\n",
       "    <tr>\n",
       "      <th>4</th>\n",
       "      <td>3</td>\n",
       "      <td>04:36:52</td>\n",
       "      <td>10.00</td>\n",
       "      <td>76.86</td>\n",
       "      <td>12.2594</td>\n",
       "      <td>6.91</td>\n",
       "      <td>0.01</td>\n",
       "      <td>16.26</td>\n",
       "      <td>9.44</td>\n",
       "      <td>2.42</td>\n",
       "      <td>51.07</td>\n",
       "      <td>102.80</td>\n",
       "      <td>16058.50</td>\n",
       "      <td>3812.67</td>\n",
       "      <td>4165.51</td>\n",
       "      <td>NaN</td>\n",
       "    </tr>\n",
       "  </tbody>\n",
       "</table>\n",
       "</div>"
      ],
      "text/plain": [
       "   Cumulative time  Real time  Physiological stage  \\\n",
       "0  Cumulative time  Real time  Physiological stage   \n",
       "1                0   04:36:49                10.00   \n",
       "2                1   04:36:50                10.00   \n",
       "3                2   04:36:51                10.00   \n",
       "4                3   04:36:52                10.00   \n",
       "\n",
       "   Artifact corrected heart rate  %VO2max   VO2  EPOC  Respiration rate  \\\n",
       "0  Artifact corrected heart rate  %VO2max   VO2  EPOC  Respiration rate   \n",
       "1                          76.86  12.2594  6.91  0.01             16.26   \n",
       "2                          76.86  12.2594  6.91  0.01             16.26   \n",
       "3                          76.86  12.2594  6.91  0.01             16.26   \n",
       "4                          76.86  12.2594  6.91  0.01             16.26   \n",
       "\n",
       "   Ventilation  Energy expenditure  Energy expenditure from fats  VLF Power  \\\n",
       "0  Ventilation  Energy expenditure  Energy expenditure from fats  VLF Power   \n",
       "1         9.44                2.42                         51.07     102.80   \n",
       "2         9.44                2.42                         51.07     102.80   \n",
       "3         9.44                2.42                         51.07     102.80   \n",
       "4         9.44                2.42                         51.07     102.80   \n",
       "\n",
       "   LF Power  HF Power  HF2 Power  NaN  \n",
       "0  LF Power  HF Power  HF2 Power  NaN  \n",
       "1  16058.50   3812.67    4165.51  NaN  \n",
       "2  16058.50   3812.67    4165.51  NaN  \n",
       "3  16058.50   3812.67    4165.51  NaN  \n",
       "4  16058.50   3812.67    4165.51  NaN  "
      ]
     },
     "execution_count": 93,
     "metadata": {},
     "output_type": "execute_result"
    }
   ],
   "source": [
    "data.head()"
   ]
  },
  {
   "cell_type": "code",
   "execution_count": 94,
   "id": "a2e18b26",
   "metadata": {},
   "outputs": [],
   "source": [
    "data=data.drop(labels=0,axis=0)"
   ]
  },
  {
   "cell_type": "code",
   "execution_count": 95,
   "id": "ac0233d5",
   "metadata": {},
   "outputs": [
    {
     "data": {
      "text/html": [
       "<div>\n",
       "<style scoped>\n",
       "    .dataframe tbody tr th:only-of-type {\n",
       "        vertical-align: middle;\n",
       "    }\n",
       "\n",
       "    .dataframe tbody tr th {\n",
       "        vertical-align: top;\n",
       "    }\n",
       "\n",
       "    .dataframe thead th {\n",
       "        text-align: right;\n",
       "    }\n",
       "</style>\n",
       "<table border=\"1\" class=\"dataframe\">\n",
       "  <thead>\n",
       "    <tr style=\"text-align: right;\">\n",
       "      <th></th>\n",
       "      <th>Cumulative time</th>\n",
       "      <th>Real time</th>\n",
       "      <th>Physiological stage</th>\n",
       "      <th>Artifact corrected heart rate</th>\n",
       "      <th>%VO2max</th>\n",
       "      <th>VO2</th>\n",
       "      <th>EPOC</th>\n",
       "      <th>Respiration rate</th>\n",
       "      <th>Ventilation</th>\n",
       "      <th>Energy expenditure</th>\n",
       "      <th>Energy expenditure from fats</th>\n",
       "      <th>VLF Power</th>\n",
       "      <th>LF Power</th>\n",
       "      <th>HF Power</th>\n",
       "      <th>HF2 Power</th>\n",
       "      <th>NaN</th>\n",
       "    </tr>\n",
       "  </thead>\n",
       "  <tbody>\n",
       "    <tr>\n",
       "      <th>1</th>\n",
       "      <td>0</td>\n",
       "      <td>04:36:49</td>\n",
       "      <td>10.00</td>\n",
       "      <td>76.86</td>\n",
       "      <td>12.2594</td>\n",
       "      <td>6.91</td>\n",
       "      <td>0.01</td>\n",
       "      <td>16.26</td>\n",
       "      <td>9.44</td>\n",
       "      <td>2.42</td>\n",
       "      <td>51.07</td>\n",
       "      <td>102.80</td>\n",
       "      <td>16058.50</td>\n",
       "      <td>3812.67</td>\n",
       "      <td>4165.51</td>\n",
       "      <td>NaN</td>\n",
       "    </tr>\n",
       "    <tr>\n",
       "      <th>2</th>\n",
       "      <td>1</td>\n",
       "      <td>04:36:50</td>\n",
       "      <td>10.00</td>\n",
       "      <td>76.86</td>\n",
       "      <td>12.2594</td>\n",
       "      <td>6.91</td>\n",
       "      <td>0.01</td>\n",
       "      <td>16.26</td>\n",
       "      <td>9.44</td>\n",
       "      <td>2.42</td>\n",
       "      <td>51.07</td>\n",
       "      <td>102.80</td>\n",
       "      <td>16058.50</td>\n",
       "      <td>3812.67</td>\n",
       "      <td>4165.51</td>\n",
       "      <td>NaN</td>\n",
       "    </tr>\n",
       "    <tr>\n",
       "      <th>3</th>\n",
       "      <td>2</td>\n",
       "      <td>04:36:51</td>\n",
       "      <td>10.00</td>\n",
       "      <td>76.86</td>\n",
       "      <td>12.2594</td>\n",
       "      <td>6.91</td>\n",
       "      <td>0.01</td>\n",
       "      <td>16.26</td>\n",
       "      <td>9.44</td>\n",
       "      <td>2.42</td>\n",
       "      <td>51.07</td>\n",
       "      <td>102.80</td>\n",
       "      <td>16058.50</td>\n",
       "      <td>3812.67</td>\n",
       "      <td>4165.51</td>\n",
       "      <td>NaN</td>\n",
       "    </tr>\n",
       "    <tr>\n",
       "      <th>4</th>\n",
       "      <td>3</td>\n",
       "      <td>04:36:52</td>\n",
       "      <td>10.00</td>\n",
       "      <td>76.86</td>\n",
       "      <td>12.2594</td>\n",
       "      <td>6.91</td>\n",
       "      <td>0.01</td>\n",
       "      <td>16.26</td>\n",
       "      <td>9.44</td>\n",
       "      <td>2.42</td>\n",
       "      <td>51.07</td>\n",
       "      <td>102.80</td>\n",
       "      <td>16058.50</td>\n",
       "      <td>3812.67</td>\n",
       "      <td>4165.51</td>\n",
       "      <td>NaN</td>\n",
       "    </tr>\n",
       "    <tr>\n",
       "      <th>5</th>\n",
       "      <td>4</td>\n",
       "      <td>04:36:53</td>\n",
       "      <td>10.00</td>\n",
       "      <td>76.86</td>\n",
       "      <td>12.2350</td>\n",
       "      <td>6.90</td>\n",
       "      <td>0.02</td>\n",
       "      <td>16.26</td>\n",
       "      <td>9.43</td>\n",
       "      <td>2.41</td>\n",
       "      <td>51.09</td>\n",
       "      <td>102.80</td>\n",
       "      <td>16058.50</td>\n",
       "      <td>3812.67</td>\n",
       "      <td>4165.51</td>\n",
       "      <td>NaN</td>\n",
       "    </tr>\n",
       "  </tbody>\n",
       "</table>\n",
       "</div>"
      ],
      "text/plain": [
       "  Cumulative time Real time Physiological stage Artifact corrected heart rate  \\\n",
       "1               0  04:36:49               10.00                         76.86   \n",
       "2               1  04:36:50               10.00                         76.86   \n",
       "3               2  04:36:51               10.00                         76.86   \n",
       "4               3  04:36:52               10.00                         76.86   \n",
       "5               4  04:36:53               10.00                         76.86   \n",
       "\n",
       "   %VO2max   VO2  EPOC Respiration rate Ventilation Energy expenditure  \\\n",
       "1  12.2594  6.91  0.01            16.26        9.44               2.42   \n",
       "2  12.2594  6.91  0.01            16.26        9.44               2.42   \n",
       "3  12.2594  6.91  0.01            16.26        9.44               2.42   \n",
       "4  12.2594  6.91  0.01            16.26        9.44               2.42   \n",
       "5  12.2350  6.90  0.02            16.26        9.43               2.41   \n",
       "\n",
       "  Energy expenditure from fats VLF Power  LF Power HF Power HF2 Power  NaN  \n",
       "1                        51.07    102.80  16058.50  3812.67   4165.51  NaN  \n",
       "2                        51.07    102.80  16058.50  3812.67   4165.51  NaN  \n",
       "3                        51.07    102.80  16058.50  3812.67   4165.51  NaN  \n",
       "4                        51.07    102.80  16058.50  3812.67   4165.51  NaN  \n",
       "5                        51.09    102.80  16058.50  3812.67   4165.51  NaN  "
      ]
     },
     "execution_count": 95,
     "metadata": {},
     "output_type": "execute_result"
    }
   ],
   "source": [
    "data.head()"
   ]
  },
  {
   "cell_type": "code",
   "execution_count": 96,
   "id": "9173e7c0",
   "metadata": {},
   "outputs": [
    {
     "name": "stdout",
     "output_type": "stream",
     "text": [
      "<class 'pandas.core.frame.DataFrame'>\n",
      "RangeIndex: 11576 entries, 1 to 11576\n",
      "Data columns (total 16 columns):\n",
      " #   Column                         Non-Null Count  Dtype  \n",
      "---  ------                         --------------  -----  \n",
      " 0   Cumulative time                11576 non-null  object \n",
      " 1   Real time                      11576 non-null  object \n",
      " 2   Physiological stage            11576 non-null  object \n",
      " 3   Artifact corrected heart rate  11576 non-null  object \n",
      " 4   %VO2max                        11576 non-null  object \n",
      " 5   VO2                            11576 non-null  object \n",
      " 6   EPOC                           11576 non-null  object \n",
      " 7   Respiration rate               11576 non-null  object \n",
      " 8   Ventilation                    11576 non-null  object \n",
      " 9   Energy expenditure             11576 non-null  object \n",
      " 10  Energy expenditure from fats   11576 non-null  object \n",
      " 11  VLF Power                      11576 non-null  object \n",
      " 12  LF Power                       11576 non-null  object \n",
      " 13  HF Power                       11576 non-null  object \n",
      " 14  HF2 Power                      11576 non-null  object \n",
      " 15  nan                            0 non-null      float64\n",
      "dtypes: float64(1), object(15)\n",
      "memory usage: 1.4+ MB\n"
     ]
    }
   ],
   "source": [
    "data.info()"
   ]
  },
  {
   "cell_type": "code",
   "execution_count": 97,
   "id": "cecb8573",
   "metadata": {},
   "outputs": [],
   "source": [
    "data['Artifact corrected heart rate']=pd.to_numeric(data['Artifact corrected heart rate'])"
   ]
  },
  {
   "cell_type": "code",
   "execution_count": 98,
   "id": "2308e7fc",
   "metadata": {},
   "outputs": [
    {
     "name": "stdout",
     "output_type": "stream",
     "text": [
      "<class 'pandas.core.frame.DataFrame'>\n",
      "RangeIndex: 11576 entries, 1 to 11576\n",
      "Data columns (total 16 columns):\n",
      " #   Column                         Non-Null Count  Dtype  \n",
      "---  ------                         --------------  -----  \n",
      " 0   Cumulative time                11576 non-null  object \n",
      " 1   Real time                      11576 non-null  object \n",
      " 2   Physiological stage            11576 non-null  object \n",
      " 3   Artifact corrected heart rate  11576 non-null  float64\n",
      " 4   %VO2max                        11576 non-null  object \n",
      " 5   VO2                            11576 non-null  object \n",
      " 6   EPOC                           11576 non-null  object \n",
      " 7   Respiration rate               11576 non-null  object \n",
      " 8   Ventilation                    11576 non-null  object \n",
      " 9   Energy expenditure             11576 non-null  object \n",
      " 10  Energy expenditure from fats   11576 non-null  object \n",
      " 11  VLF Power                      11576 non-null  object \n",
      " 12  LF Power                       11576 non-null  object \n",
      " 13  HF Power                       11576 non-null  object \n",
      " 14  HF2 Power                      11576 non-null  object \n",
      " 15  nan                            0 non-null      float64\n",
      "dtypes: float64(2), object(14)\n",
      "memory usage: 1.4+ MB\n"
     ]
    }
   ],
   "source": [
    "data.info()"
   ]
  },
  {
   "cell_type": "code",
   "execution_count": 53,
   "id": "e058ec54",
   "metadata": {},
   "outputs": [],
   "source": [
    "data['Artifact corrected heart rate']=data['Artifact corrected heart rate'].astype(int)"
   ]
  },
  {
   "cell_type": "code",
   "execution_count": 54,
   "id": "0b181dcb",
   "metadata": {},
   "outputs": [
    {
     "name": "stdout",
     "output_type": "stream",
     "text": [
      "<class 'pandas.core.frame.DataFrame'>\n",
      "RangeIndex: 11576 entries, 1 to 11576\n",
      "Data columns (total 16 columns):\n",
      " #   Column                         Non-Null Count  Dtype  \n",
      "---  ------                         --------------  -----  \n",
      " 0   Cumulative time                11576 non-null  object \n",
      " 1   Real time                      11576 non-null  object \n",
      " 2   Physiological stage            11576 non-null  object \n",
      " 3   Artifact corrected heart rate  11576 non-null  int32  \n",
      " 4   %VO2max                        11576 non-null  object \n",
      " 5   VO2                            11576 non-null  object \n",
      " 6   EPOC                           11576 non-null  object \n",
      " 7   Respiration rate               11576 non-null  object \n",
      " 8   Ventilation                    11576 non-null  object \n",
      " 9   Energy expenditure             11576 non-null  object \n",
      " 10  Energy expenditure from fats   11576 non-null  object \n",
      " 11  VLF Power                      11576 non-null  object \n",
      " 12  LF Power                       11576 non-null  object \n",
      " 13  HF Power                       11576 non-null  object \n",
      " 14  HF2 Power                      11576 non-null  object \n",
      " 15  nan                            0 non-null      float64\n",
      "dtypes: float64(1), int32(1), object(14)\n",
      "memory usage: 1.4+ MB\n"
     ]
    }
   ],
   "source": [
    "data.info()"
   ]
  },
  {
   "cell_type": "code",
   "execution_count": 57,
   "id": "43f07454",
   "metadata": {},
   "outputs": [],
   "source": [
    "data['%VO2max']=pd.to_numeric(data['%VO2max'])"
   ]
  },
  {
   "cell_type": "code",
   "execution_count": 58,
   "id": "640dbf2b",
   "metadata": {},
   "outputs": [
    {
     "name": "stdout",
     "output_type": "stream",
     "text": [
      "<class 'pandas.core.frame.DataFrame'>\n",
      "RangeIndex: 11576 entries, 1 to 11576\n",
      "Data columns (total 16 columns):\n",
      " #   Column                         Non-Null Count  Dtype  \n",
      "---  ------                         --------------  -----  \n",
      " 0   Cumulative time                11576 non-null  object \n",
      " 1   Real time                      11576 non-null  object \n",
      " 2   Physiological stage            11576 non-null  object \n",
      " 3   Artifact corrected heart rate  11576 non-null  int32  \n",
      " 4   %VO2max                        11576 non-null  float64\n",
      " 5   VO2                            11576 non-null  object \n",
      " 6   EPOC                           11576 non-null  object \n",
      " 7   Respiration rate               11576 non-null  object \n",
      " 8   Ventilation                    11576 non-null  object \n",
      " 9   Energy expenditure             11576 non-null  object \n",
      " 10  Energy expenditure from fats   11576 non-null  object \n",
      " 11  VLF Power                      11576 non-null  object \n",
      " 12  LF Power                       11576 non-null  object \n",
      " 13  HF Power                       11576 non-null  object \n",
      " 14  HF2 Power                      11576 non-null  object \n",
      " 15  nan                            0 non-null      float64\n",
      "dtypes: float64(2), int32(1), object(13)\n",
      "memory usage: 1.4+ MB\n"
     ]
    }
   ],
   "source": [
    "data.info()"
   ]
  },
  {
   "cell_type": "code",
   "execution_count": 59,
   "id": "57d34cbc",
   "metadata": {},
   "outputs": [],
   "source": [
    "data['%VO2max']=data['%VO2max'].astype(int)"
   ]
  },
  {
   "cell_type": "code",
   "execution_count": 60,
   "id": "83b5c638",
   "metadata": {},
   "outputs": [
    {
     "name": "stdout",
     "output_type": "stream",
     "text": [
      "<class 'pandas.core.frame.DataFrame'>\n",
      "RangeIndex: 11576 entries, 1 to 11576\n",
      "Data columns (total 16 columns):\n",
      " #   Column                         Non-Null Count  Dtype  \n",
      "---  ------                         --------------  -----  \n",
      " 0   Cumulative time                11576 non-null  object \n",
      " 1   Real time                      11576 non-null  object \n",
      " 2   Physiological stage            11576 non-null  object \n",
      " 3   Artifact corrected heart rate  11576 non-null  int32  \n",
      " 4   %VO2max                        11576 non-null  int32  \n",
      " 5   VO2                            11576 non-null  object \n",
      " 6   EPOC                           11576 non-null  object \n",
      " 7   Respiration rate               11576 non-null  object \n",
      " 8   Ventilation                    11576 non-null  object \n",
      " 9   Energy expenditure             11576 non-null  object \n",
      " 10  Energy expenditure from fats   11576 non-null  object \n",
      " 11  VLF Power                      11576 non-null  object \n",
      " 12  LF Power                       11576 non-null  object \n",
      " 13  HF Power                       11576 non-null  object \n",
      " 14  HF2 Power                      11576 non-null  object \n",
      " 15  nan                            0 non-null      float64\n",
      "dtypes: float64(1), int32(2), object(13)\n",
      "memory usage: 1.3+ MB\n"
     ]
    }
   ],
   "source": [
    "data.info()"
   ]
  },
  {
   "cell_type": "code",
   "execution_count": 61,
   "id": "8a2372b7",
   "metadata": {},
   "outputs": [
    {
     "data": {
      "text/html": [
       "<div>\n",
       "<style scoped>\n",
       "    .dataframe tbody tr th:only-of-type {\n",
       "        vertical-align: middle;\n",
       "    }\n",
       "\n",
       "    .dataframe tbody tr th {\n",
       "        vertical-align: top;\n",
       "    }\n",
       "\n",
       "    .dataframe thead th {\n",
       "        text-align: right;\n",
       "    }\n",
       "</style>\n",
       "<table border=\"1\" class=\"dataframe\">\n",
       "  <thead>\n",
       "    <tr style=\"text-align: right;\">\n",
       "      <th></th>\n",
       "      <th>Cumulative time</th>\n",
       "      <th>Real time</th>\n",
       "      <th>Physiological stage</th>\n",
       "      <th>Artifact corrected heart rate</th>\n",
       "      <th>%VO2max</th>\n",
       "      <th>VO2</th>\n",
       "      <th>EPOC</th>\n",
       "      <th>Respiration rate</th>\n",
       "      <th>Ventilation</th>\n",
       "      <th>Energy expenditure</th>\n",
       "      <th>Energy expenditure from fats</th>\n",
       "      <th>VLF Power</th>\n",
       "      <th>LF Power</th>\n",
       "      <th>HF Power</th>\n",
       "      <th>HF2 Power</th>\n",
       "      <th>NaN</th>\n",
       "    </tr>\n",
       "  </thead>\n",
       "  <tbody>\n",
       "    <tr>\n",
       "      <th>1</th>\n",
       "      <td>0</td>\n",
       "      <td>04:36:49</td>\n",
       "      <td>10.00</td>\n",
       "      <td>76</td>\n",
       "      <td>12</td>\n",
       "      <td>6.91</td>\n",
       "      <td>0.01</td>\n",
       "      <td>16.26</td>\n",
       "      <td>9.44</td>\n",
       "      <td>2.42</td>\n",
       "      <td>51.07</td>\n",
       "      <td>102.80</td>\n",
       "      <td>16058.50</td>\n",
       "      <td>3812.67</td>\n",
       "      <td>4165.51</td>\n",
       "      <td>NaN</td>\n",
       "    </tr>\n",
       "    <tr>\n",
       "      <th>2</th>\n",
       "      <td>1</td>\n",
       "      <td>04:36:50</td>\n",
       "      <td>10.00</td>\n",
       "      <td>76</td>\n",
       "      <td>12</td>\n",
       "      <td>6.91</td>\n",
       "      <td>0.01</td>\n",
       "      <td>16.26</td>\n",
       "      <td>9.44</td>\n",
       "      <td>2.42</td>\n",
       "      <td>51.07</td>\n",
       "      <td>102.80</td>\n",
       "      <td>16058.50</td>\n",
       "      <td>3812.67</td>\n",
       "      <td>4165.51</td>\n",
       "      <td>NaN</td>\n",
       "    </tr>\n",
       "    <tr>\n",
       "      <th>3</th>\n",
       "      <td>2</td>\n",
       "      <td>04:36:51</td>\n",
       "      <td>10.00</td>\n",
       "      <td>76</td>\n",
       "      <td>12</td>\n",
       "      <td>6.91</td>\n",
       "      <td>0.01</td>\n",
       "      <td>16.26</td>\n",
       "      <td>9.44</td>\n",
       "      <td>2.42</td>\n",
       "      <td>51.07</td>\n",
       "      <td>102.80</td>\n",
       "      <td>16058.50</td>\n",
       "      <td>3812.67</td>\n",
       "      <td>4165.51</td>\n",
       "      <td>NaN</td>\n",
       "    </tr>\n",
       "    <tr>\n",
       "      <th>4</th>\n",
       "      <td>3</td>\n",
       "      <td>04:36:52</td>\n",
       "      <td>10.00</td>\n",
       "      <td>76</td>\n",
       "      <td>12</td>\n",
       "      <td>6.91</td>\n",
       "      <td>0.01</td>\n",
       "      <td>16.26</td>\n",
       "      <td>9.44</td>\n",
       "      <td>2.42</td>\n",
       "      <td>51.07</td>\n",
       "      <td>102.80</td>\n",
       "      <td>16058.50</td>\n",
       "      <td>3812.67</td>\n",
       "      <td>4165.51</td>\n",
       "      <td>NaN</td>\n",
       "    </tr>\n",
       "    <tr>\n",
       "      <th>5</th>\n",
       "      <td>4</td>\n",
       "      <td>04:36:53</td>\n",
       "      <td>10.00</td>\n",
       "      <td>76</td>\n",
       "      <td>12</td>\n",
       "      <td>6.90</td>\n",
       "      <td>0.02</td>\n",
       "      <td>16.26</td>\n",
       "      <td>9.43</td>\n",
       "      <td>2.41</td>\n",
       "      <td>51.09</td>\n",
       "      <td>102.80</td>\n",
       "      <td>16058.50</td>\n",
       "      <td>3812.67</td>\n",
       "      <td>4165.51</td>\n",
       "      <td>NaN</td>\n",
       "    </tr>\n",
       "  </tbody>\n",
       "</table>\n",
       "</div>"
      ],
      "text/plain": [
       "  Cumulative time Real time Physiological stage  \\\n",
       "1               0  04:36:49               10.00   \n",
       "2               1  04:36:50               10.00   \n",
       "3               2  04:36:51               10.00   \n",
       "4               3  04:36:52               10.00   \n",
       "5               4  04:36:53               10.00   \n",
       "\n",
       "   Artifact corrected heart rate  %VO2max   VO2  EPOC Respiration rate  \\\n",
       "1                             76       12  6.91  0.01            16.26   \n",
       "2                             76       12  6.91  0.01            16.26   \n",
       "3                             76       12  6.91  0.01            16.26   \n",
       "4                             76       12  6.91  0.01            16.26   \n",
       "5                             76       12  6.90  0.02            16.26   \n",
       "\n",
       "  Ventilation Energy expenditure Energy expenditure from fats VLF Power  \\\n",
       "1        9.44               2.42                        51.07    102.80   \n",
       "2        9.44               2.42                        51.07    102.80   \n",
       "3        9.44               2.42                        51.07    102.80   \n",
       "4        9.44               2.42                        51.07    102.80   \n",
       "5        9.43               2.41                        51.09    102.80   \n",
       "\n",
       "   LF Power HF Power HF2 Power  NaN  \n",
       "1  16058.50  3812.67   4165.51  NaN  \n",
       "2  16058.50  3812.67   4165.51  NaN  \n",
       "3  16058.50  3812.67   4165.51  NaN  \n",
       "4  16058.50  3812.67   4165.51  NaN  \n",
       "5  16058.50  3812.67   4165.51  NaN  "
      ]
     },
     "execution_count": 61,
     "metadata": {},
     "output_type": "execute_result"
    }
   ],
   "source": [
    "data.head()"
   ]
  },
  {
   "cell_type": "code",
   "execution_count": 62,
   "id": "3ed49478",
   "metadata": {},
   "outputs": [],
   "source": [
    "v=data['%VO2max']"
   ]
  },
  {
   "cell_type": "code",
   "execution_count": 64,
   "id": "6cd03fe0",
   "metadata": {},
   "outputs": [],
   "source": [
    "vo=list(v)\n",
    "vo2=[]"
   ]
  },
  {
   "cell_type": "code",
   "execution_count": 65,
   "id": "d256d715",
   "metadata": {},
   "outputs": [],
   "source": [
    "for i in vo:\n",
    "    if 0<= i <=20:\n",
    "        vo2.append('green')\n",
    "    elif 21<= i <=30:\n",
    "        vo2.append('blue')\n",
    "    elif 31<= i <=40:\n",
    "        vo2.append('red')\n",
    "    elif i>40:\n",
    "        vo2.append('black')"
   ]
  },
  {
   "cell_type": "code",
   "execution_count": 66,
   "id": "811f4523",
   "metadata": {},
   "outputs": [],
   "source": [
    "data['%VO2max']=np.array(vo2)"
   ]
  },
  {
   "cell_type": "code",
   "execution_count": 67,
   "id": "e386f2af",
   "metadata": {
    "scrolled": true
   },
   "outputs": [
    {
     "data": {
      "text/html": [
       "<div>\n",
       "<style scoped>\n",
       "    .dataframe tbody tr th:only-of-type {\n",
       "        vertical-align: middle;\n",
       "    }\n",
       "\n",
       "    .dataframe tbody tr th {\n",
       "        vertical-align: top;\n",
       "    }\n",
       "\n",
       "    .dataframe thead th {\n",
       "        text-align: right;\n",
       "    }\n",
       "</style>\n",
       "<table border=\"1\" class=\"dataframe\">\n",
       "  <thead>\n",
       "    <tr style=\"text-align: right;\">\n",
       "      <th></th>\n",
       "      <th>Cumulative time</th>\n",
       "      <th>Real time</th>\n",
       "      <th>Physiological stage</th>\n",
       "      <th>Artifact corrected heart rate</th>\n",
       "      <th>%VO2max</th>\n",
       "      <th>VO2</th>\n",
       "      <th>EPOC</th>\n",
       "      <th>Respiration rate</th>\n",
       "      <th>Ventilation</th>\n",
       "      <th>Energy expenditure</th>\n",
       "      <th>Energy expenditure from fats</th>\n",
       "      <th>VLF Power</th>\n",
       "      <th>LF Power</th>\n",
       "      <th>HF Power</th>\n",
       "      <th>HF2 Power</th>\n",
       "      <th>NaN</th>\n",
       "    </tr>\n",
       "  </thead>\n",
       "  <tbody>\n",
       "    <tr>\n",
       "      <th>1</th>\n",
       "      <td>0</td>\n",
       "      <td>04:36:49</td>\n",
       "      <td>10.00</td>\n",
       "      <td>76</td>\n",
       "      <td>green</td>\n",
       "      <td>6.91</td>\n",
       "      <td>0.01</td>\n",
       "      <td>16.26</td>\n",
       "      <td>9.44</td>\n",
       "      <td>2.42</td>\n",
       "      <td>51.07</td>\n",
       "      <td>102.80</td>\n",
       "      <td>16058.50</td>\n",
       "      <td>3812.67</td>\n",
       "      <td>4165.51</td>\n",
       "      <td>NaN</td>\n",
       "    </tr>\n",
       "    <tr>\n",
       "      <th>2</th>\n",
       "      <td>1</td>\n",
       "      <td>04:36:50</td>\n",
       "      <td>10.00</td>\n",
       "      <td>76</td>\n",
       "      <td>green</td>\n",
       "      <td>6.91</td>\n",
       "      <td>0.01</td>\n",
       "      <td>16.26</td>\n",
       "      <td>9.44</td>\n",
       "      <td>2.42</td>\n",
       "      <td>51.07</td>\n",
       "      <td>102.80</td>\n",
       "      <td>16058.50</td>\n",
       "      <td>3812.67</td>\n",
       "      <td>4165.51</td>\n",
       "      <td>NaN</td>\n",
       "    </tr>\n",
       "    <tr>\n",
       "      <th>3</th>\n",
       "      <td>2</td>\n",
       "      <td>04:36:51</td>\n",
       "      <td>10.00</td>\n",
       "      <td>76</td>\n",
       "      <td>green</td>\n",
       "      <td>6.91</td>\n",
       "      <td>0.01</td>\n",
       "      <td>16.26</td>\n",
       "      <td>9.44</td>\n",
       "      <td>2.42</td>\n",
       "      <td>51.07</td>\n",
       "      <td>102.80</td>\n",
       "      <td>16058.50</td>\n",
       "      <td>3812.67</td>\n",
       "      <td>4165.51</td>\n",
       "      <td>NaN</td>\n",
       "    </tr>\n",
       "    <tr>\n",
       "      <th>4</th>\n",
       "      <td>3</td>\n",
       "      <td>04:36:52</td>\n",
       "      <td>10.00</td>\n",
       "      <td>76</td>\n",
       "      <td>green</td>\n",
       "      <td>6.91</td>\n",
       "      <td>0.01</td>\n",
       "      <td>16.26</td>\n",
       "      <td>9.44</td>\n",
       "      <td>2.42</td>\n",
       "      <td>51.07</td>\n",
       "      <td>102.80</td>\n",
       "      <td>16058.50</td>\n",
       "      <td>3812.67</td>\n",
       "      <td>4165.51</td>\n",
       "      <td>NaN</td>\n",
       "    </tr>\n",
       "    <tr>\n",
       "      <th>5</th>\n",
       "      <td>4</td>\n",
       "      <td>04:36:53</td>\n",
       "      <td>10.00</td>\n",
       "      <td>76</td>\n",
       "      <td>green</td>\n",
       "      <td>6.90</td>\n",
       "      <td>0.02</td>\n",
       "      <td>16.26</td>\n",
       "      <td>9.43</td>\n",
       "      <td>2.41</td>\n",
       "      <td>51.09</td>\n",
       "      <td>102.80</td>\n",
       "      <td>16058.50</td>\n",
       "      <td>3812.67</td>\n",
       "      <td>4165.51</td>\n",
       "      <td>NaN</td>\n",
       "    </tr>\n",
       "  </tbody>\n",
       "</table>\n",
       "</div>"
      ],
      "text/plain": [
       "  Cumulative time Real time Physiological stage  \\\n",
       "1               0  04:36:49               10.00   \n",
       "2               1  04:36:50               10.00   \n",
       "3               2  04:36:51               10.00   \n",
       "4               3  04:36:52               10.00   \n",
       "5               4  04:36:53               10.00   \n",
       "\n",
       "   Artifact corrected heart rate %VO2max   VO2  EPOC Respiration rate  \\\n",
       "1                             76   green  6.91  0.01            16.26   \n",
       "2                             76   green  6.91  0.01            16.26   \n",
       "3                             76   green  6.91  0.01            16.26   \n",
       "4                             76   green  6.91  0.01            16.26   \n",
       "5                             76   green  6.90  0.02            16.26   \n",
       "\n",
       "  Ventilation Energy expenditure Energy expenditure from fats VLF Power  \\\n",
       "1        9.44               2.42                        51.07    102.80   \n",
       "2        9.44               2.42                        51.07    102.80   \n",
       "3        9.44               2.42                        51.07    102.80   \n",
       "4        9.44               2.42                        51.07    102.80   \n",
       "5        9.43               2.41                        51.09    102.80   \n",
       "\n",
       "   LF Power HF Power HF2 Power  NaN  \n",
       "1  16058.50  3812.67   4165.51  NaN  \n",
       "2  16058.50  3812.67   4165.51  NaN  \n",
       "3  16058.50  3812.67   4165.51  NaN  \n",
       "4  16058.50  3812.67   4165.51  NaN  \n",
       "5  16058.50  3812.67   4165.51  NaN  "
      ]
     },
     "execution_count": 67,
     "metadata": {},
     "output_type": "execute_result"
    }
   ],
   "source": [
    "data.head()"
   ]
  },
  {
   "cell_type": "code",
   "execution_count": 69,
   "id": "2b3c8213",
   "metadata": {},
   "outputs": [],
   "source": [
    "# 2nd Question"
   ]
  },
  {
   "cell_type": "code",
   "execution_count": 74,
   "id": "f9a0391e",
   "metadata": {},
   "outputs": [],
   "source": [
    "import matplotlib.pyplot as plt"
   ]
  },
  {
   "cell_type": "code",
   "execution_count": 75,
   "id": "88325a39",
   "metadata": {},
   "outputs": [
    {
     "data": {
      "text/plain": [
       "green    6042\n",
       "black    3841\n",
       "blue     1073\n",
       "red       620\n",
       "Name: %VO2max, dtype: int64"
      ]
     },
     "execution_count": 75,
     "metadata": {},
     "output_type": "execute_result"
    }
   ],
   "source": [
    "data['%VO2max'].value_counts()"
   ]
  },
  {
   "cell_type": "code",
   "execution_count": 76,
   "id": "f941177d",
   "metadata": {},
   "outputs": [],
   "source": [
    "count_vo=data['%VO2max'].value_counts()"
   ]
  },
  {
   "cell_type": "code",
   "execution_count": 80,
   "id": "97f78333",
   "metadata": {},
   "outputs": [],
   "source": [
    "s = [[6042,'green'],[3841,'black'],[1073,'blue'],[620,'red']]"
   ]
  },
  {
   "cell_type": "code",
   "execution_count": 81,
   "id": "69ce9027",
   "metadata": {},
   "outputs": [],
   "source": [
    "count_vo2 = pd.DataFrame(s, columns=['vals', 'col'])"
   ]
  },
  {
   "cell_type": "code",
   "execution_count": 82,
   "id": "3ce9081b",
   "metadata": {},
   "outputs": [
    {
     "data": {
      "text/html": [
       "<div>\n",
       "<style scoped>\n",
       "    .dataframe tbody tr th:only-of-type {\n",
       "        vertical-align: middle;\n",
       "    }\n",
       "\n",
       "    .dataframe tbody tr th {\n",
       "        vertical-align: top;\n",
       "    }\n",
       "\n",
       "    .dataframe thead th {\n",
       "        text-align: right;\n",
       "    }\n",
       "</style>\n",
       "<table border=\"1\" class=\"dataframe\">\n",
       "  <thead>\n",
       "    <tr style=\"text-align: right;\">\n",
       "      <th></th>\n",
       "      <th>vals</th>\n",
       "      <th>col</th>\n",
       "    </tr>\n",
       "  </thead>\n",
       "  <tbody>\n",
       "    <tr>\n",
       "      <th>0</th>\n",
       "      <td>6042</td>\n",
       "      <td>green</td>\n",
       "    </tr>\n",
       "    <tr>\n",
       "      <th>1</th>\n",
       "      <td>3841</td>\n",
       "      <td>black</td>\n",
       "    </tr>\n",
       "    <tr>\n",
       "      <th>2</th>\n",
       "      <td>1073</td>\n",
       "      <td>blue</td>\n",
       "    </tr>\n",
       "    <tr>\n",
       "      <th>3</th>\n",
       "      <td>620</td>\n",
       "      <td>red</td>\n",
       "    </tr>\n",
       "  </tbody>\n",
       "</table>\n",
       "</div>"
      ],
      "text/plain": [
       "   vals    col\n",
       "0  6042  green\n",
       "1  3841  black\n",
       "2  1073   blue\n",
       "3   620    red"
      ]
     },
     "execution_count": 82,
     "metadata": {},
     "output_type": "execute_result"
    }
   ],
   "source": [
    "count_vo2"
   ]
  },
  {
   "cell_type": "code",
   "execution_count": 85,
   "id": "367ddeec",
   "metadata": {},
   "outputs": [
    {
     "data": {
      "text/plain": [
       "[<matplotlib.lines.Line2D at 0x1f549b94af0>]"
      ]
     },
     "execution_count": 85,
     "metadata": {},
     "output_type": "execute_result"
    },
    {
     "data": {
      "image/png": "[encoded data removed]",
      "text/plain": [
       "<Figure size 432x288 with 1 Axes>"
      ]
     },
     "metadata": {
      "needs_background": "light"
     },
     "output_type": "display_data"
    }
   ],
   "source": [
    "plt.plot(count_vo2['col'], count_vo2['vals'])"
   ]
  },
  {
   "cell_type": "code",
   "execution_count": 86,
   "id": "67133e21",
   "metadata": {},
   "outputs": [
    {
     "data": {
      "text/plain": [
       "([<matplotlib.patches.Wedge at 0x1f549bd0b80>,\n",
       "  <matplotlib.patches.Wedge at 0x1f547ff70a0>,\n",
       "  <matplotlib.patches.Wedge at 0x1f547ff7580>,\n",
       "  <matplotlib.patches.Wedge at 0x1f547ff7a60>],\n",
       " [Text(-0.07576593355699145, 1.0973875902853276, 'green'),\n",
       "  Text(-0.41874426059039, -1.0171790620252699, 'black'),\n",
       "  Text(0.8903046558174088, -0.646032212687452, 'blue'),\n",
       "  Text(1.0844652893420277, -0.18421464711665092, 'red')])"
      ]
     },
     "execution_count": 86,
     "metadata": {},
     "output_type": "execute_result"
    },
    {
     "data": {
      "image/png": "[encoded data removed]",
      "text/plain": [
       "<Figure size 432x288 with 1 Axes>"
      ]
     },
     "metadata": {},
     "output_type": "display_data"
    }
   ],
   "source": [
    "plt.pie(count_vo2[\"vals\"], labels = count_vo2[\"col\"])"
   ]
  },
  {
   "cell_type": "code",
   "execution_count": null,
   "id": "f14a897e",
   "metadata": {},
   "outputs": [],
   "source": [
    "#3rd Question"
   ]
  },
  {
   "cell_type": "code",
   "execution_count": 100,
   "id": "19867312",
   "metadata": {},
   "outputs": [],
   "source": [
    "cum_time=data['Cumulative time'].to_list()\n",
    "arti_hr=data['Artifact corrected heart rate'].to_list()"
   ]
  },
  {
   "cell_type": "code",
   "execution_count": 101,
   "id": "b9b5d62a",
   "metadata": {},
   "outputs": [
    {
     "data": {
      "image/png": "[encoded data removed]",
      "text/plain": [
       "<Figure size 432x288 with 1 Axes>"
      ]
     },
     "metadata": {
      "needs_background": "light"
     },
     "output_type": "display_data"
    },
    {
     "data": {
      "text/plain": [
       "<Figure size 72x72 with 0 Axes>"
      ]
     },
     "metadata": {},
     "output_type": "display_data"
    }
   ],
   "source": [
    "plt.plot(cum_time,arti_hr,linewidth=0.5)\n",
    "plt.title('Heart rate Signal')\n",
    "plt.xlabel('time')\n",
    "plt.ylabel('heart rate')\n",
    "plt.figure(figsize=(1,1))\n",
    "plt.show()"
   ]
  },
  {
   "cell_type": "code",
   "execution_count": 102,
   "id": "cf3e6752",
   "metadata": {},
   "outputs": [
    {
     "name": "stdout",
     "output_type": "stream",
     "text": [
      "6.002918463800379\n"
     ]
    }
   ],
   "source": [
    "off=0\n",
    "rms_noise=6\n",
    "noise=np.random.normal(loc=off,scale=rms_noise,size=11576)\n",
    "measured=np.std(noise)\n",
    "print(measured)"
   ]
  },
  {
   "cell_type": "code",
   "execution_count": 103,
   "id": "76855196",
   "metadata": {},
   "outputs": [],
   "source": [
    "hrnoise=noise.tolist()"
   ]
  },
  {
   "cell_type": "code",
   "execution_count": 107,
   "id": "71e47afe",
   "metadata": {},
   "outputs": [
    {
     "data": {
      "image/png": "[encoded data removed]",
      "text/plain": [
       "<Figure size 432x288 with 1 Axes>"
      ]
     },
     "metadata": {
      "needs_background": "light"
     },
     "output_type": "display_data"
    },
    {
     "data": {
      "text/plain": [
       "<Figure size 72x72 with 0 Axes>"
      ]
     },
     "metadata": {},
     "output_type": "display_data"
    }
   ],
   "source": [
    "plt.plot(cum_time,hrnoise,linewidth=0.5)\n",
    "plt.title('Noise Signal')\n",
    "plt.xlabel('time')\n",
    "plt.ylabel('Noise')\n",
    "plt.figure(figsize=(1,1))\n",
    "plt.show()"
   ]
  },
  {
   "cell_type": "code",
   "execution_count": 108,
   "id": "079ea539",
   "metadata": {},
   "outputs": [
    {
     "name": "stdout",
     "output_type": "stream",
     "text": [
      "[ 76.86  76.86  76.86 ... 111.19 111.19 111.19]\n",
      "[ 5.1211159  -4.40387239 -1.72324899 ... -6.47847843 -3.10299197\n",
      " -7.0123717 ]\n"
     ]
    }
   ],
   "source": [
    "hr_arr=np.array(arti_hr)\n",
    "no_arr=np.array(hrnoise)\n",
    "print(hr_arr)\n",
    "print(no_arr)"
   ]
  },
  {
   "cell_type": "code",
   "execution_count": 109,
   "id": "595be508",
   "metadata": {},
   "outputs": [
    {
     "name": "stdout",
     "output_type": "stream",
     "text": [
      "[ 81.9811159   72.45612761  75.13675101 ... 104.71152157 108.08700803\n",
      " 104.1776283 ]\n"
     ]
    }
   ],
   "source": [
    "sig=hr_arr + no_arr\n",
    "print(sig)"
   ]
  },
  {
   "cell_type": "code",
   "execution_count": 112,
   "id": "05a5156b",
   "metadata": {},
   "outputs": [
    {
     "data": {
      "image/png": "[encoded data removed]",
      "text/plain": [
       "<Figure size 432x288 with 1 Axes>"
      ]
     },
     "metadata": {
      "needs_background": "light"
     },
     "output_type": "display_data"
    },
    {
     "data": {
      "text/plain": [
       "<Figure size 72x72 with 0 Axes>"
      ]
     },
     "metadata": {},
     "output_type": "display_data"
    }
   ],
   "source": [
    "plt.plot(cum_time,sig,linewidth=0.5)\n",
    "plt.title('Noise added Signal')\n",
    "plt.xlabel('time')\n",
    "plt.ylabel('HR')\n",
    "plt.figure(figsize=(1,1))\n",
    "plt.show()"
   ]
  },
  {
   "cell_type": "code",
   "execution_count": 113,
   "id": "b5e0631a",
   "metadata": {},
   "outputs": [
    {
     "data": {
      "image/png": "[encoded data removed]",
      "text/plain": [
       "<Figure size 432x288 with 1 Axes>"
      ]
     },
     "metadata": {
      "needs_background": "light"
     },
     "output_type": "display_data"
    }
   ],
   "source": [
    "plt.title('Noise added Signal')\n",
    "plt.xlabel('time')\n",
    "plt.ylabel('HR')\n",
    "plt.plot(cum_time, sig, label = \"Noise added Signal\",linewidth=0.4)\n",
    "plt.plot(cum_time, arti_hr, label = \"filtered Signal\",linewidth=0.9)\n",
    "plt.legend()\n",
    "plt.show()"
   ]
  },
  {
   "cell_type": "code",
   "execution_count": 122,
   "id": "57d87ada",
   "metadata": {},
   "outputs": [],
   "source": [
    "import numpy as np"
   ]
  },
  {
   "cell_type": "code",
   "execution_count": 123,
   "id": "e83b8612",
   "metadata": {},
   "outputs": [
    {
     "name": "stdout",
     "output_type": "stream",
     "text": [
      "[1.14277099 0.89161549 0.95614208 ... 0.88988591 0.9457011  0.88134973]\n"
     ]
    }
   ],
   "source": [
    "def signaltonoise(Arr, axis=0, ddof=0):\n",
    "    Arr = np.asanyarray(Arr)\n",
    "    me = Arr.mean(axis)\n",
    "    sd = Arr.std(axis=axis, ddof=ddof)\n",
    "    return np.where(sd == 0, 0, me/sd)\n",
    "Arr=[hr_arr,no_arr]\n",
    "print(signaltonoise(Arr,axis=0,ddof=0))"
   ]
  },
  {
   "cell_type": "code",
   "execution_count": 125,
   "id": "7e92014a",
   "metadata": {},
   "outputs": [
    {
     "ename": "NameError",
     "evalue": "name 'hr' is not defined",
     "output_type": "error",
     "traceback": [
      "\u001b[1;31m---------------------------------------------------------------------------\u001b[0m",
      "\u001b[1;31mNameError\u001b[0m                                 Traceback (most recent call last)",
      "Input \u001b[1;32mIn [125]\u001b[0m, in \u001b[0;36m<cell line: 4>\u001b[1;34m()\u001b[0m\n\u001b[0;32m      2\u001b[0m \u001b[38;5;28;01mfrom\u001b[39;00m \u001b[38;5;21;01mscipy\u001b[39;00m\u001b[38;5;21;01m.\u001b[39;00m\u001b[38;5;21;01mstats\u001b[39;00m \u001b[38;5;28;01mimport\u001b[39;00m zscore\n\u001b[0;32m      3\u001b[0m plt\u001b[38;5;241m.\u001b[39mfigure(figsize\u001b[38;5;241m=\u001b[39m(\u001b[38;5;241m20\u001b[39m,\u001b[38;5;241m7\u001b[39m))\n\u001b[1;32m----> 4\u001b[0m rr\u001b[38;5;241m=\u001b[39mnp\u001b[38;5;241m.\u001b[39mdiff(\u001b[43mhr\u001b[49m)\n\u001b[0;32m      5\u001b[0m rr_corrected\u001b[38;5;241m=\u001b[39mrr\u001b[38;5;241m.\u001b[39mcopy()\n\u001b[0;32m      6\u001b[0m rr_corrected[np\u001b[38;5;241m.\u001b[39mabs(zscore())]\n",
      "\u001b[1;31mNameError\u001b[0m: name 'hr' is not defined"
     ]
    },
    {
     "data": {
      "text/plain": [
       "<Figure size 1440x504 with 0 Axes>"
      ]
     },
     "metadata": {},
     "output_type": "display_data"
    }
   ],
   "source": [
    "from scipy import signal\n",
    "from scipy.stats import zscore\n",
    "plt.figure(figsize=(20,7))\n",
    "rr=np.diff(hr)\n",
    "rr_corrected=rr.copy()\n",
    "rr_corrected[np.abs(zscore())]"
   ]
  },
  {
   "cell_type": "code",
   "execution_count": null,
   "id": "1a109829",
   "metadata": {},
   "outputs": [],
   "source": []
  }
 ],
 "metadata": {
  "kernelspec": {
   "display_name": "Python 3 (ipykernel)",
   "language": "python",
   "name": "python3"
  },
  "language_info": {
   "codemirror_mode": {
    "name": "ipython",
    "version": 3
   },
   "file_extension": ".py",
   "mimetype": "text/x-python",
   "name": "python",
   "nbconvert_exporter": "python",
   "pygments_lexer": "ipython3",
   "version": "3.9.12"
  }
 },
 "nbformat": 4,
 "nbformat_minor": 5
}
